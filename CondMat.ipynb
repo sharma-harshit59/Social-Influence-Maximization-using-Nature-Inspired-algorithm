{
  "cells": [
    {
      "cell_type": "code",
      "execution_count": null,
      "metadata": {
        "colab": {
          "base_uri": "https://localhost:8080/"
        },
        "id": "RvNzOR1hf3s2",
        "outputId": "3757e74b-ff92-4441-bf99-5329bc8f0040"
      },
      "outputs": [
        {
          "name": "stdout",
          "output_type": "stream",
          "text": [
            "Drive already mounted at /content/drive; to attempt to forcibly remount, call drive.mount(\"/content/drive\", force_remount=True).\n"
          ]
        }
      ],
      "source": [
        "from google.colab import drive\n",
        "drive.mount('/content/drive')"
      ]
    },
    {
      "cell_type": "markdown",
      "metadata": {
        "id": "VvJtQFhdfmMh"
      },
      "source": [
        "# Discrete Shuffled Frog-leaping Algorithm for Social Influence Maximization"
      ]
    },
    {
      "cell_type": "code",
      "execution_count": null,
      "metadata": {
        "colab": {
          "background_save": true,
          "base_uri": "https://localhost:8080/"
        },
        "id": "bRRcX5IHkgYQ",
        "outputId": "08a621df-0325-4f37-8203-417000df8691"
      },
      "outputs": [
        {
          "name": "stdout",
          "output_type": "stream",
          "text": [
            "Requirement already satisfied: networkx in /usr/local/lib/python3.7/dist-packages (2.6.3)\n"
          ]
        }
      ],
      "source": [
        "# Installing the NetworkX Library to work with Network Graphs & their Visualizations\n",
        "!pip install networkx"
      ]
    },
    {
      "cell_type": "markdown",
      "metadata": {
        "id": "NC_8kUm3fmMo"
      },
      "source": [
        "### Importing & Shaping Libraries, Modules & Datasets"
      ]
    },
    {
      "cell_type": "code",
      "execution_count": null,
      "metadata": {
        "colab": {
          "background_save": true
        },
        "id": "OJLxBdvXk1Mu"
      },
      "outputs": [],
      "source": [
        "# The NetworkX Library is a Python package for the creation, manipulation, and study of the structure, dynamics, and functions of complex networks\n",
        "import networkx as nx\n",
        "# The Pandas is a fast, powerful, flexible and easy to use open source data analysis and manipulation tool, built on top of the Python programming language\n",
        "import pandas as pd\n",
        "# The Matplotlib is a comprehensive library for creating static, animated, and interactive visualizations in Python\n",
        "import matplotlib.pyplot as plt\n",
        "# The Random Module is a built-in Python Module to work with Random Numbers\n",
        "import random\n",
        "import copy"
      ]
    },
    {
      "cell_type": "code",
      "execution_count": null,
      "metadata": {
        "colab": {
          "background_save": true
        },
        "id": "zpTKjObXMFS6",
        "outputId": "58ae9bb7-7eea-4ab7-8692-b99f618e64fd"
      },
      "outputs": [
        {
          "data": {
            "text/html": [
              "\n",
              "  <div id=\"df-f7e9f1c6-3b5f-4aa7-835b-1962ea7b049a\">\n",
              "    <div class=\"colab-df-container\">\n",
              "      <div>\n",
              "<style scoped>\n",
              "    .dataframe tbody tr th:only-of-type {\n",
              "        vertical-align: middle;\n",
              "    }\n",
              "\n",
              "    .dataframe tbody tr th {\n",
              "        vertical-align: top;\n",
              "    }\n",
              "\n",
              "    .dataframe thead th {\n",
              "        text-align: right;\n",
              "    }\n",
              "</style>\n",
              "<table border=\"1\" class=\"dataframe\">\n",
              "  <thead>\n",
              "    <tr style=\"text-align: right;\">\n",
              "      <th></th>\n",
              "      <th>From</th>\n",
              "      <th>To</th>\n",
              "    </tr>\n",
              "  </thead>\n",
              "  <tbody>\n",
              "    <tr>\n",
              "      <th>0</th>\n",
              "      <td>81626</td>\n",
              "      <td>11894</td>\n",
              "    </tr>\n",
              "    <tr>\n",
              "      <th>1</th>\n",
              "      <td>81626</td>\n",
              "      <td>16246</td>\n",
              "    </tr>\n",
              "    <tr>\n",
              "      <th>2</th>\n",
              "      <td>81626</td>\n",
              "      <td>16322</td>\n",
              "    </tr>\n",
              "    <tr>\n",
              "      <th>3</th>\n",
              "      <td>81626</td>\n",
              "      <td>18914</td>\n",
              "    </tr>\n",
              "    <tr>\n",
              "      <th>4</th>\n",
              "      <td>81626</td>\n",
              "      <td>19729</td>\n",
              "    </tr>\n",
              "    <tr>\n",
              "      <th>...</th>\n",
              "      <td>...</td>\n",
              "      <td>...</td>\n",
              "    </tr>\n",
              "    <tr>\n",
              "      <th>186931</th>\n",
              "      <td>74613</td>\n",
              "      <td>1956</td>\n",
              "    </tr>\n",
              "    <tr>\n",
              "      <th>186932</th>\n",
              "      <td>74613</td>\n",
              "      <td>10295</td>\n",
              "    </tr>\n",
              "    <tr>\n",
              "      <th>186933</th>\n",
              "      <td>74613</td>\n",
              "      <td>60822</td>\n",
              "    </tr>\n",
              "    <tr>\n",
              "      <th>186934</th>\n",
              "      <td>15222</td>\n",
              "      <td>54030</td>\n",
              "    </tr>\n",
              "    <tr>\n",
              "      <th>186935</th>\n",
              "      <td>15222</td>\n",
              "      <td>106784</td>\n",
              "    </tr>\n",
              "  </tbody>\n",
              "</table>\n",
              "<p>186936 rows × 2 columns</p>\n",
              "</div>\n",
              "      <button class=\"colab-df-convert\" onclick=\"convertToInteractive('df-f7e9f1c6-3b5f-4aa7-835b-1962ea7b049a')\"\n",
              "              title=\"Convert this dataframe to an interactive table.\"\n",
              "              style=\"display:none;\">\n",
              "        \n",
              "  <svg xmlns=\"http://www.w3.org/2000/svg\" height=\"24px\"viewBox=\"0 0 24 24\"\n",
              "       width=\"24px\">\n",
              "    <path d=\"M0 0h24v24H0V0z\" fill=\"none\"/>\n",
              "    <path d=\"M18.56 5.44l.94 2.06.94-2.06 2.06-.94-2.06-.94-.94-2.06-.94 2.06-2.06.94zm-11 1L8.5 8.5l.94-2.06 2.06-.94-2.06-.94L8.5 2.5l-.94 2.06-2.06.94zm10 10l.94 2.06.94-2.06 2.06-.94-2.06-.94-.94-2.06-.94 2.06-2.06.94z\"/><path d=\"M17.41 7.96l-1.37-1.37c-.4-.4-.92-.59-1.43-.59-.52 0-1.04.2-1.43.59L10.3 9.45l-7.72 7.72c-.78.78-.78 2.05 0 2.83L4 21.41c.39.39.9.59 1.41.59.51 0 1.02-.2 1.41-.59l7.78-7.78 2.81-2.81c.8-.78.8-2.07 0-2.86zM5.41 20L4 18.59l7.72-7.72 1.47 1.35L5.41 20z\"/>\n",
              "  </svg>\n",
              "      </button>\n",
              "      \n",
              "  <style>\n",
              "    .colab-df-container {\n",
              "      display:flex;\n",
              "      flex-wrap:wrap;\n",
              "      gap: 12px;\n",
              "    }\n",
              "\n",
              "    .colab-df-convert {\n",
              "      background-color: #E8F0FE;\n",
              "      border: none;\n",
              "      border-radius: 50%;\n",
              "      cursor: pointer;\n",
              "      display: none;\n",
              "      fill: #1967D2;\n",
              "      height: 32px;\n",
              "      padding: 0 0 0 0;\n",
              "      width: 32px;\n",
              "    }\n",
              "\n",
              "    .colab-df-convert:hover {\n",
              "      background-color: #E2EBFA;\n",
              "      box-shadow: 0px 1px 2px rgba(60, 64, 67, 0.3), 0px 1px 3px 1px rgba(60, 64, 67, 0.15);\n",
              "      fill: #174EA6;\n",
              "    }\n",
              "\n",
              "    [theme=dark] .colab-df-convert {\n",
              "      background-color: #3B4455;\n",
              "      fill: #D2E3FC;\n",
              "    }\n",
              "\n",
              "    [theme=dark] .colab-df-convert:hover {\n",
              "      background-color: #434B5C;\n",
              "      box-shadow: 0px 1px 3px 1px rgba(0, 0, 0, 0.15);\n",
              "      filter: drop-shadow(0px 1px 2px rgba(0, 0, 0, 0.3));\n",
              "      fill: #FFFFFF;\n",
              "    }\n",
              "  </style>\n",
              "\n",
              "      <script>\n",
              "        const buttonEl =\n",
              "          document.querySelector('#df-f7e9f1c6-3b5f-4aa7-835b-1962ea7b049a button.colab-df-convert');\n",
              "        buttonEl.style.display =\n",
              "          google.colab.kernel.accessAllowed ? 'block' : 'none';\n",
              "\n",
              "        async function convertToInteractive(key) {\n",
              "          const element = document.querySelector('#df-f7e9f1c6-3b5f-4aa7-835b-1962ea7b049a');\n",
              "          const dataTable =\n",
              "            await google.colab.kernel.invokeFunction('convertToInteractive',\n",
              "                                                     [key], {});\n",
              "          if (!dataTable) return;\n",
              "\n",
              "          const docLinkHtml = 'Like what you see? Visit the ' +\n",
              "            '<a target=\"_blank\" href=https://colab.research.google.com/notebooks/data_table.ipynb>data table notebook</a>'\n",
              "            + ' to learn more about interactive tables.';\n",
              "          element.innerHTML = '';\n",
              "          dataTable['output_type'] = 'display_data';\n",
              "          await google.colab.output.renderOutput(dataTable, element);\n",
              "          const docLink = document.createElement('div');\n",
              "          docLink.innerHTML = docLinkHtml;\n",
              "          element.appendChild(docLink);\n",
              "        }\n",
              "      </script>\n",
              "    </div>\n",
              "  </div>\n",
              "  "
            ],
            "text/plain": [
              "         From      To\n",
              "0       81626   11894\n",
              "1       81626   16246\n",
              "2       81626   16322\n",
              "3       81626   18914\n",
              "4       81626   19729\n",
              "...       ...     ...\n",
              "186931  74613    1956\n",
              "186932  74613   10295\n",
              "186933  74613   60822\n",
              "186934  15222   54030\n",
              "186935  15222  106784\n",
              "\n",
              "[186936 rows x 2 columns]"
            ]
          },
          "execution_count": null,
          "metadata": {},
          "output_type": "execute_result"
        }
      ],
      "source": [
        "# Converting the Dataframe structure into an Edgelist to feed into the NetworkX Library function\n",
        "edges = pd.read_csv(\"/content/drive/MyDrive/DSFLA Datasets/CondMat/CondMat.csv\")\n",
        "edges"
      ]
    },
    {
      "cell_type": "code",
      "execution_count": null,
      "metadata": {
        "colab": {
          "background_save": true
        },
        "id": "U0Ero_y9V7f9",
        "outputId": "3987d899-6244-4b66-caa5-a6df7748080d"
      },
      "outputs": [
        {
          "name": "stdout",
          "output_type": "stream",
          "text": [
            "Graph with 23133 nodes and 93497 edges\n"
          ]
        }
      ],
      "source": [
        "# Creating the NetworkX Graph using Pandas Edgelist\n",
        "GOT = nx.from_pandas_edgelist(edges, source = 'From', target = 'To')\n",
        "print(nx.info(GOT))\n",
        "# Dictionary storing the Degree of each node in the Graph\n",
        "weighted_degrees = dict(nx.degree(GOT))"
      ]
    },
    {
      "cell_type": "markdown",
      "metadata": {
        "id": "lvwYdApmfmMu"
      },
      "source": [
        "#### Creation & Calculation of Memeplexes for the Computation of Most Influential Nodes"
      ]
    },
    {
      "cell_type": "code",
      "execution_count": null,
      "metadata": {
        "colab": {
          "background_save": true
        },
        "id": "PACQBEnMXlzs",
        "outputId": "02520e49-39de-42fa-be4a-0efc8f342d1e"
      },
      "outputs": [
        {
          "name": "stdout",
          "output_type": "stream",
          "text": [
            "Meme-1 [66061, 8822, 58791]\n",
            "Meme-2 [74432, 84277, 33228]\n",
            "Meme-3 [60787, 30098, 90045]\n",
            "Meme-4 [48775, 81760, 34315]\n",
            "Meme-5 [3643, 19429, 94023]\n",
            "Meme-6 [23965, 20832, 75737]\n",
            "Meme-7 [76739, 77375, 30514]\n",
            "Meme-8 [51510, 4472, 88215]\n",
            "Meme-9 [38382, 53923, 48576]\n",
            "Meme-10 [35948, 94916, 49253]\n",
            "Meme-11 [92279, 26922, 24718]\n",
            "Meme-12 [6335, 31635, 43416]\n",
            "Meme-13 [35780, 57678, 7745]\n",
            "Meme-14 [86328, 3526, 94264]\n",
            "Meme-15 [85850, 2631, 58015]\n",
            "Meme-16 [18548, 17121, 82937]\n",
            "Meme-17 [105790, 107535, 59283]\n",
            "Meme-18 [90961, 85845, 53690]\n",
            "Meme-19 [97149, 29585, 39496]\n",
            "Meme-20 [8272, 6505, 40198]\n",
            "Meme-21 [34229, 78207, 16101]\n",
            "Meme-22 [33060, 95074, 1468]\n",
            "Meme-23 [97515, 93707, 4472]\n",
            "Meme-24 [54207, 9742, 95394]\n",
            "Meme-25 [74285, 38989, 70264]\n",
            "Meme-26 [68601, 101052, 85991]\n",
            "Meme-27 [70194, 83307, 88952]\n",
            "Meme-28 [96603, 22081, 36952]\n",
            "Meme-29 [60913, 65672, 102810]\n",
            "Meme-30 [11876, 83990, 25885]\n",
            "Meme-31 [19155, 98209, 64565]\n",
            "Meme-32 [51913, 59003, 51489]\n",
            "Meme-33 [94225, 78405, 94443]\n",
            "Meme-34 [100985, 48823, 37993]\n",
            "Meme-35 [9637, 61885, 11525]\n",
            "Meme-36 [92879, 72157, 36588]\n",
            "Meme-37 [67510, 1662, 30915]\n",
            "Meme-38 [18304, 60203, 86115]\n",
            "Meme-39 [71064, 51176, 31080]\n",
            "Meme-40 [42608, 86966, 104237]\n",
            "Meme-41 [38808, 38911, 71958]\n",
            "Meme-42 [98293, 106511, 58306]\n",
            "Meme-43 [51035, 93744, 39070]\n",
            "Meme-44 [81847, 25772, 1816]\n",
            "Meme-45 [25867, 62971, 44002]\n",
            "Meme-46 [39443, 60452, 58223]\n",
            "Meme-47 [38817, 89945, 105440]\n",
            "Meme-48 [31766, 82832, 60040]\n",
            "Meme-49 [99693, 58633, 32299]\n",
            "Meme-50 [70831, 70188, 3076]\n"
          ]
        }
      ],
      "source": [
        "m = 10 # No. of memeplexes\n",
        "n = 5 # No. of memes in each memeplex\n",
        "k = 3 # No. of memetypes in each meme\n",
        "itr = 1 # No. of iterations\n",
        "F = m * n\n",
        "population = []\n",
        "for i in range(F):\n",
        "    population.append([random.choice(list(weighted_degrees)) for i in range(k)])\n",
        "\n",
        "# Printing the Randomly Generated Memes\n",
        "for i in range(len(population)):\n",
        "    print(\"Meme-{}\".format(i+1), population[i])"
      ]
    },
    {
      "cell_type": "code",
      "execution_count": null,
      "metadata": {
        "colab": {
          "background_save": true
        },
        "id": "NvcZpnidnTOg"
      },
      "outputs": [],
      "source": [
        "def one_hop_area(meme):\n",
        "    \"\"\"\n",
        "    Compute the One-Hop Area, i.e., the nodes adjacent to the nodes in the given meme\n",
        "    Parameters:\n",
        "        meme = Meme whose One Hop Area is to be calculated\n",
        "    Returns:\n",
        "        List of Nodes which are adjacent to atleast one node within a meme\n",
        "    \"\"\"\n",
        "    temp = [] # Temporary list to store the One-Hop Area nodes of the meme\n",
        "    for i in meme:\n",
        "        temp.extend(list(GOT.neighbors(i)))\n",
        "    return list(set(temp) - set(meme)) # Returning only unique nodes, to avoid Node Repetition\n",
        "\n",
        "def two_hop_area(meme):\n",
        "    \"\"\"\n",
        "    Compute the Two-Hop Area, i.e., the nodes adjacent to the One-Hop area nodes of the given meme\n",
        "    Parameters:\n",
        "        meme = Meme whose Two Hop Area is to be calculated\n",
        "    Returns:\n",
        "        List of Nodes which are adjacent to atleast one node within the One-Hop Area Nodes but not a part of the Meme\n",
        "    \"\"\"\n",
        "    one_hop = one_hop_area(meme)\n",
        "    temp = [] # Temporary list to store the Two-Hop Area nodes of the meme\n",
        "    for i in one_hop:\n",
        "        temp.extend(list(GOT.neighbors(i)))\n",
        "    return list(set(temp) - set(meme) - set(one_hop)) # Returning only unique nodes, to avoid Node Repetition\n",
        "\n",
        "def calc_pcm_prob(nodes):\n",
        "    \"\"\"\n",
        "    Calculates the Constant Propogation Cascade Probability of the nodes of the given meme\n",
        "    Parameters:\n",
        "        nodes = List of Nodes whose Cascade Probability has to be calculated\n",
        "    Returns:\n",
        "        List of Probabilities where ith probability corresponds to the Cascade Probability of the ith node of the list of given nodes\n",
        "    \"\"\"\n",
        "    prob = [] # Temporary List to store the corresponding Cascade Probability of the Nodes\n",
        "    for i in nodes:\n",
        "        prob.append(weighted_degrees[i] / GOT.number_of_nodes())\n",
        "    return prob\n",
        "\n",
        "def calc_edges(group1, group2):\n",
        "    \"\"\"\n",
        "    Calculates the number of edges each Group-2 Node has within the nodes Group-1 & Group-2\n",
        "    Parameters:\n",
        "        group1 = First Group of Nodes\n",
        "        group2 = Second Group of Nodes\n",
        "    Returns:\n",
        "        List of number of edges where ith entry corresponds to the number of edges Node-i of Group-2 has within nodes of Group-1 & Group-2\n",
        "    \"\"\"\n",
        "    count = [] # Temporary storage to store the Number of edges corresponding each node\n",
        "    for i in group2:\n",
        "        edges = list(nx.edges(GOT, nbunch = [i]))\n",
        "        temp = 0\n",
        "        for i in edges:\n",
        "            if (i[1] in group1) or (i[1] in group2):\n",
        "                temp += 1\n",
        "        count.append(temp)\n",
        "    return count\n",
        "\n",
        "def sum_pd(list1, list2):\n",
        "    \"\"\"\n",
        "    Computes the sum-product of entries of two list\n",
        "    Parameters:\n",
        "        list1: A List of Floating-point Numbers\n",
        "        list2: A List of Floating-point Numbers\n",
        "    Returns:\n",
        "        Sum of the Products of each corresponding Entry of the two lists\n",
        "    \"\"\"\n",
        "    p = 0 # Temporary variable to store the Sum-Product of the two lists\n",
        "    for i in range(len(list1)):\n",
        "        p += (list1[i] * list2[i])\n",
        "    return p\n",
        "\n",
        "def calc_edge_prob(meme, one_hop):\n",
        "    \"\"\"\n",
        "    Returns the sum of the Edges probabilities of the nodes with their One-Hop area nodes\n",
        "    Parameters:\n",
        "        meme = Meme whose nodes' edge probabilities have to be calculated\n",
        "        one_hop = One-Hop Area nodes of the given meme\n",
        "    Returns:\n",
        "        Sum of the Edge Probabilities using the formula - 1 - Product(1 - Pij)\n",
        "    \"\"\"\n",
        "    N = GOT.number_of_nodes() # Total Nodes in the Graph\n",
        "    prob_sum = 0 # Temporary variable to store the sum of the Edge Probabilities\n",
        "    for i in one_hop:\n",
        "        prob_prod = 1\n",
        "        for j in meme:\n",
        "            pij = 0.01\n",
        "            pij += ((GOT.degree(i) + GOT.degree(j)) / N)\n",
        "            pij += (len(list(nx.common_neighbors(GOT, i, j))) / N)\n",
        "            prob_prod *= (1 - pij)\n",
        "        prob_sum += (1 - prob_prod)\n",
        "    return prob_sum\n",
        "\n",
        "def LIE(meme):\n",
        "    \"\"\"\n",
        "    Calculates the Local Influence Spread Measure of the nodes of the meme\n",
        "    Parameters:\n",
        "        meme = Meme whose LIE value has to be calculated\n",
        "    Returns:\n",
        "        A Floating-point Number denoting the Local Influence Spread Measure\n",
        "    \"\"\"\n",
        "    Ns1_S = one_hop_area(meme) # One-Hop area of the Meme\n",
        "    Ns2_S = two_hop_area(meme) # Two-Hop Area of the Meme\n",
        "    pu = calc_pcm_prob(Ns2_S)\n",
        "    du = calc_edges(Ns1_S, Ns2_S)\n",
        "    return k + ((1 + ((1 / len(Ns1_S)) * sum_pd(pu, du))) * calc_edge_prob(meme, Ns1_S))\n",
        "\n",
        "def sort_memes(ppl_lie, ppl):\n",
        "    \"\"\"\n",
        "    Sorts the Population of Memes on the basis of their LIE values\n",
        "    Parameters:\n",
        "        ppl_lie = LIE values of each corresponding meme\n",
        "        ppl = Population of Memes\n",
        "    Returns:\n",
        "        Tuple of List denoting the Sorted LIE values and Population of Memes in descending order\n",
        "    \"\"\"\n",
        "    result = sorted(list(zip(ppl_lie, ppl)), reverse = True)\n",
        "    result = zip(*result)\n",
        "    result = [list(tuple) for tuple in result]\n",
        "    return result[0], result[1]"
      ]
    },
    {
      "cell_type": "code",
      "execution_count": null,
      "metadata": {
        "colab": {
          "background_save": true
        },
        "id": "JRbZOHaTJAp-"
      },
      "outputs": [],
      "source": [
        "population_LIE = [] # List to store the LIE values of all memes\n",
        "for i in range(F):\n",
        "    population_LIE.append(LIE(population[i]))\n",
        "# Sorting the Memes on the basis of their LIE values\n",
        "population_LIE, population = sort_memes(population_LIE, population)"
      ]
    },
    {
      "cell_type": "code",
      "execution_count": null,
      "metadata": {
        "colab": {
          "background_save": true
        },
        "id": "M8fH-Wq4cuA_",
        "outputId": "c0dda636-a86c-4249-8f3c-e2d3ccac7ce9"
      },
      "outputs": [
        {
          "name": "stdout",
          "output_type": "stream",
          "text": [
            "The Meme-wise sorted LIE values are as follows -\n",
            "Meme-1 : 7.887958386771515 [42608, 86966, 104237]\n",
            "Meme-2 : 5.153497518304389 [34229, 78207, 16101]\n",
            "Meme-3 : 5.0099622527530085 [3643, 19429, 94023]\n",
            "Meme-4 : 4.629275030421358 [96603, 22081, 36952]\n",
            "Meme-5 : 4.504877841985919 [35948, 94916, 49253]\n",
            "Meme-6 : 4.466600288594352 [19155, 98209, 64565]\n",
            "Meme-7 : 4.4648996918335015 [70194, 83307, 88952]\n",
            "Meme-8 : 4.453012310300291 [60787, 30098, 90045]\n",
            "Meme-9 : 4.407288189632824 [86328, 3526, 94264]\n",
            "Meme-10 : 4.340812856265167 [68601, 101052, 85991]\n",
            "Meme-11 : 4.265729611555145 [25867, 62971, 44002]\n",
            "Meme-12 : 4.241135606312655 [81847, 25772, 1816]\n",
            "Meme-13 : 4.224701230571476 [51913, 59003, 51489]\n",
            "Meme-14 : 4.061645321788605 [85850, 2631, 58015]\n",
            "Meme-15 : 3.983758620976323 [105790, 107535, 59283]\n",
            "Meme-16 : 3.945071417842741 [38382, 53923, 48576]\n",
            "Meme-17 : 3.939655843366056 [31766, 82832, 60040]\n",
            "Meme-18 : 3.913171961942455 [90961, 85845, 53690]\n",
            "Meme-19 : 3.888439524749292 [70831, 70188, 3076]\n",
            "Meme-20 : 3.8538602533079924 [11876, 83990, 25885]\n",
            "Meme-21 : 3.8533562153274543 [38817, 89945, 105440]\n",
            "Meme-22 : 3.8168902041265933 [67510, 1662, 30915]\n",
            "Meme-23 : 3.8043073636434603 [6335, 31635, 43416]\n",
            "Meme-24 : 3.7937310405727196 [71064, 51176, 31080]\n",
            "Meme-25 : 3.7842644616276355 [33060, 95074, 1468]\n",
            "Meme-26 : 3.7458063805999084 [92879, 72157, 36588]\n",
            "Meme-27 : 3.742197032528809 [94225, 78405, 94443]\n",
            "Meme-28 : 3.7200637816807296 [76739, 77375, 30514]\n",
            "Meme-29 : 3.710652319755996 [98293, 106511, 58306]\n",
            "Meme-30 : 3.6453998179313505 [8272, 6505, 40198]\n",
            "Meme-31 : 3.6426058099174488 [51035, 93744, 39070]\n",
            "Meme-32 : 3.6266362729036534 [48775, 81760, 34315]\n",
            "Meme-33 : 3.623838459806011 [74432, 84277, 33228]\n",
            "Meme-34 : 3.557269567519569 [18548, 17121, 82937]\n",
            "Meme-35 : 3.5387715116129783 [54207, 9742, 95394]\n",
            "Meme-36 : 3.5269372518860056 [74285, 38989, 70264]\n",
            "Meme-37 : 3.5145784423961612 [51510, 4472, 88215]\n",
            "Meme-38 : 3.489473738168911 [9637, 61885, 11525]\n",
            "Meme-39 : 3.4827565501591016 [60913, 65672, 102810]\n",
            "Meme-40 : 3.476373702401003 [39443, 60452, 58223]\n",
            "Meme-41 : 3.4696850405834265 [92279, 26922, 24718]\n",
            "Meme-42 : 3.4621940710363415 [35780, 57678, 7745]\n",
            "Meme-43 : 3.4455421810719318 [66061, 8822, 58791]\n",
            "Meme-44 : 3.363987158366066 [18304, 60203, 86115]\n",
            "Meme-45 : 3.357391985171883 [97149, 29585, 39496]\n",
            "Meme-46 : 3.2926944964622913 [38808, 38911, 71958]\n",
            "Meme-47 : 3.2821808250952134 [97515, 93707, 4472]\n",
            "Meme-48 : 3.263315775376164 [100985, 48823, 37993]\n",
            "Meme-49 : 3.1879194247412124 [23965, 20832, 75737]\n",
            "Meme-50 : 3.142011495242201 [99693, 58633, 32299]\n",
            "\n",
            "The Top-3 Most Influential Node have an Influence Spread Measure of - : 7.887958386771515\n",
            "The Top-3 Most Influential Nodes in the Network are :\n",
            "42608\n",
            "86966\n",
            "104237\n",
            "The Average Influence Spread Measure using Degree Centrality is : 3.919963722739745\n"
          ]
        }
      ],
      "source": [
        "print(\"The Meme-wise sorted LIE values are as follows -\")\n",
        "for i in range(len(population)):\n",
        "    print(\"Meme-{} :\".format(i+1), population_LIE[i], population[i])\n",
        "\n",
        "print(\"\\nThe Top-{} Most Influential Node have an Influence Spread Measure of - : {}\".format(k, population_LIE[0]))\n",
        "print(\"The Top-{} Most Influential Nodes in the Network are :\".format(k))\n",
        "for i in range(len(population[0])):\n",
        "    print(population[0][i])\n",
        "print(\"The Average Influence Spread Measure using Degree Centrality is :\", sum(population_LIE) / len(population_LIE))"
      ]
    },
    {
      "cell_type": "markdown",
      "metadata": {
        "id": "0mW9BNJifmM1"
      },
      "source": [
        "##### Memeplex Creation"
      ]
    },
    {
      "cell_type": "code",
      "execution_count": null,
      "metadata": {
        "colab": {
          "background_save": true
        },
        "id": "SKXC-Epr4kGc"
      },
      "outputs": [],
      "source": [
        "population = list(zip(population, population_LIE))\n",
        "\n",
        "# Creating Memeplexes using Uniform Distribution of Memes based on their LIE values\n",
        "memeplex = []\n",
        "for i in range(m):\n",
        "    meme = []\n",
        "    for j in range(n):\n",
        "        meme.append(population[i + (j * m)])\n",
        "    memeplex.append(meme)"
      ]
    },
    {
      "cell_type": "code",
      "execution_count": null,
      "metadata": {
        "colab": {
          "background_save": true
        },
        "id": "HxZqQjDZxupT",
        "outputId": "bd7870cd-2db6-475e-f7f7-af95b1652a80"
      },
      "outputs": [
        {
          "name": "stdout",
          "output_type": "stream",
          "text": [
            "The Generated Memeplexes are as follows -\n",
            "\n",
            "Memeplex - 1 :\n",
            "7.887958386771515 [42608, 86966, 104237]\n",
            "4.265729611555145 [25867, 62971, 44002]\n",
            "3.8533562153274543 [38817, 89945, 105440]\n",
            "3.6426058099174488 [51035, 93744, 39070]\n",
            "3.4696850405834265 [92279, 26922, 24718]\n",
            "\n",
            "Memeplex - 2 :\n",
            "5.153497518304389 [34229, 78207, 16101]\n",
            "4.241135606312655 [81847, 25772, 1816]\n",
            "3.8168902041265933 [67510, 1662, 30915]\n",
            "3.6266362729036534 [48775, 81760, 34315]\n",
            "3.4621940710363415 [35780, 57678, 7745]\n",
            "\n",
            "Memeplex - 3 :\n",
            "5.0099622527530085 [3643, 19429, 94023]\n",
            "4.224701230571476 [51913, 59003, 51489]\n",
            "3.8043073636434603 [6335, 31635, 43416]\n",
            "3.623838459806011 [74432, 84277, 33228]\n",
            "3.4455421810719318 [66061, 8822, 58791]\n",
            "\n",
            "Memeplex - 4 :\n",
            "4.629275030421358 [96603, 22081, 36952]\n",
            "4.061645321788605 [85850, 2631, 58015]\n",
            "3.7937310405727196 [71064, 51176, 31080]\n",
            "3.557269567519569 [18548, 17121, 82937]\n",
            "3.363987158366066 [18304, 60203, 86115]\n",
            "\n",
            "Memeplex - 5 :\n",
            "4.504877841985919 [35948, 94916, 49253]\n",
            "3.983758620976323 [105790, 107535, 59283]\n",
            "3.7842644616276355 [33060, 95074, 1468]\n",
            "3.5387715116129783 [54207, 9742, 95394]\n",
            "3.357391985171883 [97149, 29585, 39496]\n",
            "\n",
            "Memeplex - 6 :\n",
            "4.466600288594352 [19155, 98209, 64565]\n",
            "3.945071417842741 [38382, 53923, 48576]\n",
            "3.7458063805999084 [92879, 72157, 36588]\n",
            "3.5269372518860056 [74285, 38989, 70264]\n",
            "3.2926944964622913 [38808, 38911, 71958]\n",
            "\n",
            "Memeplex - 7 :\n",
            "4.4648996918335015 [70194, 83307, 88952]\n",
            "3.939655843366056 [31766, 82832, 60040]\n",
            "3.742197032528809 [94225, 78405, 94443]\n",
            "3.5145784423961612 [51510, 4472, 88215]\n",
            "3.2821808250952134 [97515, 93707, 4472]\n",
            "\n",
            "Memeplex - 8 :\n",
            "4.453012310300291 [60787, 30098, 90045]\n",
            "3.913171961942455 [90961, 85845, 53690]\n",
            "3.7200637816807296 [76739, 77375, 30514]\n",
            "3.489473738168911 [9637, 61885, 11525]\n",
            "3.263315775376164 [100985, 48823, 37993]\n",
            "\n",
            "Memeplex - 9 :\n",
            "4.407288189632824 [86328, 3526, 94264]\n",
            "3.888439524749292 [70831, 70188, 3076]\n",
            "3.710652319755996 [98293, 106511, 58306]\n",
            "3.4827565501591016 [60913, 65672, 102810]\n",
            "3.1879194247412124 [23965, 20832, 75737]\n",
            "\n",
            "Memeplex - 10 :\n",
            "4.340812856265167 [68601, 101052, 85991]\n",
            "3.8538602533079924 [11876, 83990, 25885]\n",
            "3.6453998179313505 [8272, 6505, 40198]\n",
            "3.476373702401003 [39443, 60452, 58223]\n",
            "3.142011495242201 [99693, 58633, 32299]\n"
          ]
        }
      ],
      "source": [
        "print(\"The Generated Memeplexes are as follows -\")\n",
        "for i in range(m):\n",
        "    print(\"\\nMemeplex - {} :\".format(i+1))\n",
        "    for j in range(n):\n",
        "        print(memeplex[i][j][1], memeplex[i][j][0])"
      ]
    },
    {
      "cell_type": "code",
      "execution_count": null,
      "metadata": {
        "colab": {
          "background_save": true
        },
        "id": "PpbrqDhz7UI5"
      },
      "outputs": [],
      "source": [
        "def sort_nodes(nodes, centrality):\n",
        "    \"\"\"\n",
        "    Sorts the Nodes in the given list of nodes based on the corresponding Centrality Measure of each node\n",
        "    Parameters:\n",
        "        nodes = List of nodes which has to be sorted\n",
        "        centrality = List of Centrality Measures corresponding to each node in the list\n",
        "    Returns:\n",
        "        List of nodes sorted on the basis of their Centrality Measure in descending order\n",
        "    \"\"\"\n",
        "    result = sorted(list(zip(centrality, nodes)), reverse = True)\n",
        "    result = zip(*result)\n",
        "    result = [list(tuple) for tuple in result]\n",
        "    return result[1]\n",
        "\n",
        "def sort_degree_centrality(nodes):\n",
        "    \"\"\"\n",
        "    Calculates the Degree Centrality of each Node in the given list of nodes and returns a descendingly sorted list of nodes\n",
        "    Parameters:\n",
        "        nodes = List of nodes to be sorted on the basis of the Centrality Measure\n",
        "    Returns:\n",
        "        List of Nodes sorted in descending order on the basis of the Centrality Measure\n",
        "    \"\"\"\n",
        "    centrality = nx.degree_centrality(GOT)\n",
        "    cen_measure = []\n",
        "    for i in nodes:\n",
        "        cen_measure.append(centrality[i])\n",
        "    return sort_nodes(nodes, cen_measure)\n",
        "\n",
        "def sort_eigenvector_centrality(nodes):\n",
        "    \"\"\"\n",
        "    Calculates the Eigenvector Centrality of each Node in the given list of nodes and returns a descendingly sorted list of nodes\n",
        "    Parameters:\n",
        "        nodes = List of nodes to be sorted on the basis of the Centrality Measure\n",
        "    Returns:\n",
        "        List of Nodes sorted in descending order on the basis of the Centrality Measure\n",
        "    \"\"\"\n",
        "    centrality = nx.degree_centrality(GOT)\n",
        "    cen_measure = []\n",
        "    for i in nodes:\n",
        "        cen_measure.append(centrality[i])\n",
        "    return sort_nodes(nodes, cen_measure)\n",
        "\n",
        "def sort_betweenness_centrality(nodes):\n",
        "    \"\"\"\n",
        "    Calculates the Betweenness Centrality of each Node in the given list of nodes and returns a descendingly sorted list of nodes\n",
        "    Parameters:\n",
        "        nodes = List of nodes to be sorted on the basis of the Centrality Measure\n",
        "    Returns:\n",
        "        List of Nodes sorted in descending order on the basis of the Centrality Measure\n",
        "    \"\"\"\n",
        "    centrality = nx.degree_centrality(GOT)\n",
        "    cen_measure = []\n",
        "    for i in nodes:\n",
        "        cen_measure.append(centrality[i])\n",
        "    return sort_nodes(nodes, cen_measure)\n",
        "\n",
        "def sort_closeness_centrality(nodes):\n",
        "    \"\"\"\n",
        "    Calculates the Closeness Centrality of each Node in the given list of nodes and returns a descendingly sorted list of nodes\n",
        "    Parameters:\n",
        "        nodes = List of nodes to be sorted on the basis of the Centrality Measure\n",
        "    Returns:\n",
        "        List of Nodes sorted in descending order on the basis of the Centrality Measure\n",
        "    \"\"\"\n",
        "    centrality = nx.degree_centrality(GOT)\n",
        "    cen_measure = []\n",
        "    for i in nodes:\n",
        "        cen_measure.append(centrality[i])\n",
        "    return sort_nodes(nodes, cen_measure)\n",
        "\n",
        "def sort_katz_centrality(nodes):\n",
        "    \"\"\"\n",
        "    Calculates the Katz Centrality of each Node in the given list of nodes and returns a descendingly sorted list of nodes\n",
        "    Parameters:\n",
        "        nodes = List of nodes to be sorted on the basis of the Centrality Measure\n",
        "    Returns:\n",
        "        List of Nodes sorted in descending order on the basis of the Centrality Measure\n",
        "    \"\"\"\n",
        "    centrality = nx.degree_centrality(GOT)\n",
        "    cen_measure = []\n",
        "    for i in nodes:\n",
        "        cen_measure.append(centrality[i])\n",
        "    return sort_nodes(nodes, cen_measure)\n",
        "\n",
        "def sort_percolation_centrality(nodes):\n",
        "    \"\"\"\n",
        "    Calculates the Percolation Centrality of each Node in the given list of nodes and returns a descendingly sorted list of nodes\n",
        "    Parameters:\n",
        "        nodes = List of nodes to be sorted on the basis of the Centrality Measure\n",
        "    Returns:\n",
        "        List of Nodes sorted in descending order on the basis of the Centrality Measure\n",
        "    \"\"\"\n",
        "    centrality = nx.degree_centrality(GOT)\n",
        "    cen_measure = []\n",
        "    for i in nodes:\n",
        "        cen_measure.append(centrality[i])\n",
        "    return sort_nodes(nodes, cen_measure)\n",
        "\n",
        "def LDR(meme, flag):\n",
        "    \"\"\"\n",
        "    Calculates the Local-Replacement group for the given meme for the Evolutionary Algorithm\n",
        "    Parameters:\n",
        "        meme = Meme whose Local-Replacement group has to be calculated\n",
        "        flag = an integer (1-5) to denote the Centrality Measure to be used for the Evolution Process\n",
        "                1 - Degree Centrality\n",
        "                2 - Eigenvector Centrality\n",
        "                3 - Betweenness Centrality\n",
        "                4 - Closeness Centrality\n",
        "                5 - Katz Centrality\n",
        "                6 - Percolation Centrality\n",
        "    Returns:\n",
        "        A List of Top-Centrality nodes equal to the length of the passed meme\n",
        "    \"\"\"\n",
        "    new_meme = [] # New Meme to improve the worst Meme(Frog) w.r.t. the Local/Global Best Meme (Frog)\n",
        "    N1 = []\n",
        "    for i in meme: # For each Memetype in the Meme\n",
        "        N1.extend(list(GOT.neighbors(i)))\n",
        "    N1 = list(set(N1))\n",
        "    # Sort Function to sort the One Hop Neighbors of the memetype based on the basis of Centrality Metric\n",
        "    if flag == 1:\n",
        "        SN1 = sort_degree_centrality(N1)\n",
        "    elif flag == 2:\n",
        "        SN1 = sort_eigenvector_centrality(N1)\n",
        "    elif flag == 3:\n",
        "        SN1 = sort_betweenness_centrality(N1)\n",
        "    elif flag == 4:\n",
        "        SN1 = sort_closeness_centrality(N1)\n",
        "    elif flag == 5:\n",
        "        SN1 = sort_katz_centrality(N1)\n",
        "    else:\n",
        "        SN1 = sort_percolation_centrality(N1)\n",
        "    for i in range(k):\n",
        "        new_meme.append(SN1[i])\n",
        "    return new_meme\n",
        "\n",
        "def LDR_random():\n",
        "    \"\"\"\n",
        "    Calculates a Random Meme for Local-Replacement\n",
        "    Parameters:\n",
        "        None\n",
        "    Returns:\n",
        "        A List of randomly selected nodes equal to the length of the passed meme\n",
        "    \"\"\"\n",
        "    return [random.choice(list(weighted_degrees)) for i in range(k)]\n",
        "\n",
        "def create_sub_memeplex(memeplex):\n",
        "    \"\"\"\n",
        "    Generates a Sub-memeplex for a given Memeplex\n",
        "    Parameters:\n",
        "        memeplex = Memeplex whose Sub-Memeplex has to be calculated\n",
        "    Returns:\n",
        "        A Sub-Memeplex\n",
        "        A List of positions(indices) to locate the corresponding memes within the memeplex\n",
        "    \"\"\"\n",
        "    sub = []\n",
        "    for i in range(n):\n",
        "        sub.append(random.randint(0, n-1))\n",
        "    sub = list(set(sub))\n",
        "    sub_memeplex = [memeplex[i] for i in sub]\n",
        "    return sub_memeplex, sub"
      ]
    },
    {
      "cell_type": "code",
      "execution_count": null,
      "metadata": {
        "colab": {
          "background_save": true
        },
        "id": "srem1S1ofmM4"
      },
      "outputs": [],
      "source": [
        "degree_mplx = copy.deepcopy(memeplex)\n",
        "eigen_mplx = copy.deepcopy(memeplex)\n",
        "between_mplx = copy.deepcopy(memeplex)\n",
        "close_mplx = copy.deepcopy(memeplex)\n",
        "katz_mplx = copy.deepcopy(memeplex)\n",
        "perc_mplx = copy.deepcopy(memeplex)"
      ]
    },
    {
      "cell_type": "markdown",
      "metadata": {
        "id": "nkndY81HfmM4"
      },
      "source": [
        "### DSFLA using Degree Centrality for Evolutionary process"
      ]
    },
    {
      "cell_type": "code",
      "execution_count": null,
      "metadata": {
        "id": "rzUMyHWl7cBT"
      },
      "outputs": [],
      "source": [
        "for x in range(itr):\n",
        "    Px = degree_mplx[0][0][0]\n",
        "    Px_LIE = degree_mplx[0][0][1]\n",
        "    for i in range(1, m):\n",
        "        if degree_mplx[i][0][1] < Px_LIE:\n",
        "            Px = degree_mplx[i][0][0]\n",
        "            Px_LIE = degree_mplx[i][0][1]\n",
        "    temp2 = LDR(Px, 1)\n",
        "    \n",
        "    for i in degree_mplx:\n",
        "        sub_degree_mplx, pos = create_sub_memeplex(i)\n",
        "        Pb, Pb_LIE = sub_degree_mplx[0][0], sub_degree_mplx[0][1]\n",
        "        Pw, Pw_LIE = sub_degree_mplx[-1][0], sub_degree_mplx[-1][1]\n",
        "        temp1 = LDR(Pb, 1)\n",
        "        temp3 = LDR(Pw, 1)\n",
        "        if LIE(temp1) > Pw_LIE:\n",
        "            Pw = temp1\n",
        "        elif LIE(temp2) > Pw_LIE:\n",
        "            Pw = temp2\n",
        "        elif LIE(temp3) > Pw_LIE:\n",
        "            Pw = temp3\n",
        "        else:\n",
        "            Pw = LDR_random()\n",
        "        Pw_LIE = LIE(Pw)\n",
        "        sub_degree_mplx[-1] = [Pw, Pw_LIE]\n",
        "\n",
        "        j = 0\n",
        "        for p in pos:\n",
        "            i[p] = sub_degree_mplx[j]\n",
        "            j += 1\n",
        "        \n",
        "        meme, meme_LIE = [], []\n",
        "        for p in i:\n",
        "            meme.append(p[0])\n",
        "            meme_LIE.append(p[1])\n",
        "        meme_LIE, meme = sort_memes(meme_LIE, meme)\n",
        "\n",
        "        for p in range(n):\n",
        "            i[p] = [meme[p], meme_LIE[p]]"
      ]
    },
    {
      "cell_type": "code",
      "execution_count": null,
      "metadata": {
        "id": "nTf71tJVCNqI"
      },
      "outputs": [],
      "source": [
        "population = []\n",
        "population_LIE = []\n",
        "for i in degree_mplx:\n",
        "    for j in i:\n",
        "        population.append(j[0])\n",
        "        population_LIE.append(j[1])\n",
        "population_LIE, population = sort_memes(population_LIE, population)\n",
        "    \n",
        "print(\"The Top-{} Most Influential Node have an Influence Spread Measure of - : {}\".format(k, population_LIE[0]))\n",
        "print(\"The Top-{} Most Influential Nodes in the Network are :\".format(k))\n",
        "for i in range(len(population[0])):\n",
        "    print(population[0][i])\n",
        "print(\"The Average Influence Spread Measure using Degree Centrality is :\", sum(population_LIE) / len(population_LIE))"
      ]
    },
    {
      "cell_type": "markdown",
      "metadata": {
        "id": "6mB84gZefmM6"
      },
      "source": [
        "### DSFLA using Eigenvector Centrality for Evolutionary process"
      ]
    },
    {
      "cell_type": "code",
      "execution_count": null,
      "metadata": {
        "id": "wrfB79iffmM6"
      },
      "outputs": [],
      "source": [
        "for x in range(itr):\n",
        "    Px = eigen_mplx[0][0][0]\n",
        "    Px_LIE = eigen_mplx[0][0][1]\n",
        "    for i in range(1, m):\n",
        "        if eigen_mplx[i][0][1] < Px_LIE:\n",
        "            Px = eigen_mplx[i][0][0]\n",
        "            Px_LIE = eigen_mplx[i][0][1]\n",
        "    temp2 = LDR(Px, 2)\n",
        "    \n",
        "    for i in eigen_mplx:\n",
        "        sub_eigen_mplx, pos = create_sub_memeplex(i)\n",
        "        Pb, Pb_LIE = sub_eigen_mplx[0][0], sub_eigen_mplx[0][1]\n",
        "        Pw, Pw_LIE = sub_eigen_mplx[-1][0], sub_eigen_mplx[-1][1]\n",
        "        temp1 = LDR(Pb, 2)\n",
        "        temp3 = LDR(Pw, 2)\n",
        "        if LIE(temp1) > Pw_LIE:\n",
        "            Pw = temp1\n",
        "        elif LIE(temp2) > Pw_LIE:\n",
        "            Pw = temp2\n",
        "        elif LIE(temp3) > Pw_LIE:\n",
        "            Pw = temp3\n",
        "        else:\n",
        "            Pw = LDR_random()\n",
        "        Pw_LIE = LIE(Pw)\n",
        "        sub_eigen_mplx[-1] = [Pw, Pw_LIE]\n",
        "\n",
        "        j = 0\n",
        "        for p in pos:\n",
        "            i[p] = sub_eigen_mplx[j]\n",
        "            j += 1\n",
        "        \n",
        "        meme, meme_LIE = [], []\n",
        "        for p in i:\n",
        "            meme.append(p[0])\n",
        "            meme_LIE.append(p[1])\n",
        "        meme_LIE, meme = sort_memes(meme_LIE, meme)\n",
        "\n",
        "        for p in range(n):\n",
        "            i[p] = [meme[p], meme_LIE[p]]"
      ]
    },
    {
      "cell_type": "code",
      "execution_count": null,
      "metadata": {
        "id": "S2SfBaDifmM6"
      },
      "outputs": [],
      "source": [
        "population = []\n",
        "population_LIE = []\n",
        "for i in eigen_mplx:\n",
        "    for j in i:\n",
        "        population.append(j[0])\n",
        "        population_LIE.append(j[1])\n",
        "population_LIE, population = sort_memes(population_LIE, population)\n",
        "    \n",
        "print(\"The Top-{} Most Influential Node have an Influence Spread Measure of - : {}\".format(k, population_LIE[0]))\n",
        "print(\"The Top-{} Most Influential Nodes in the Network are :\".format(k))\n",
        "for i in range(len(population[0])):\n",
        "    print(population[0][i])\n",
        "print(\"The Average Influence Spread Measure using Eigenvector Centrality is :\", sum(population_LIE) / len(population_LIE))"
      ]
    },
    {
      "cell_type": "markdown",
      "metadata": {
        "id": "wlsS8mMdfmM6"
      },
      "source": [
        "### DSFLA using Betweenness Centrality for Evolutionary process"
      ]
    },
    {
      "cell_type": "code",
      "execution_count": null,
      "metadata": {
        "id": "3c_nHUKFfmM6"
      },
      "outputs": [],
      "source": [
        "for x in range(itr):\n",
        "    Px = between_mplx[0][0][0]\n",
        "    Px_LIE = between_mplx[0][0][1]\n",
        "    for i in range(1, m):\n",
        "        if between_mplx[i][0][1] < Px_LIE:\n",
        "            Px = between_mplx[i][0][0]\n",
        "            Px_LIE = between_mplx[i][0][1]\n",
        "    temp2 = LDR(Px, 3)\n",
        "    \n",
        "    for i in between_mplx:\n",
        "        sub_between_mplx, pos = create_sub_memeplex(i)\n",
        "        Pb, Pb_LIE = sub_between_mplx[0][0], sub_between_mplx[0][1]\n",
        "        Pw, Pw_LIE = sub_between_mplx[-1][0], sub_between_mplx[-1][1]\n",
        "        temp1 = LDR(Pb, 3)\n",
        "        temp3 = LDR(Pw, 3)\n",
        "        if LIE(temp1) > Pw_LIE:\n",
        "            Pw = temp1\n",
        "        elif LIE(temp2) > Pw_LIE:\n",
        "            Pw = temp2\n",
        "        elif LIE(temp3) > Pw_LIE:\n",
        "            Pw = temp3\n",
        "        else:\n",
        "            Pw = LDR_random()\n",
        "        Pw_LIE = LIE(Pw)\n",
        "        sub_between_mplx[-1] = [Pw, Pw_LIE]\n",
        "\n",
        "        j = 0\n",
        "        for p in pos:\n",
        "            i[p] = sub_between_mplx[j]\n",
        "            j += 1\n",
        "        \n",
        "        meme, meme_LIE = [], []\n",
        "        for p in i:\n",
        "            meme.append(p[0])\n",
        "            meme_LIE.append(p[1])\n",
        "        meme_LIE, meme = sort_memes(meme_LIE, meme)\n",
        "\n",
        "        for p in range(n):\n",
        "            i[p] = [meme[p], meme_LIE[p]]"
      ]
    },
    {
      "cell_type": "code",
      "execution_count": null,
      "metadata": {
        "id": "9VAibfN2fmM8"
      },
      "outputs": [],
      "source": [
        "population = []\n",
        "population_LIE = []\n",
        "for i in between_mplx:\n",
        "    for j in i:\n",
        "        population.append(j[0])\n",
        "        population_LIE.append(j[1])\n",
        "population_LIE, population = sort_memes(population_LIE, population)\n",
        "    \n",
        "print(\"The Top-{} Most Influential Node have an Influence Spread Measure of - : {}\".format(k, population_LIE[0]))\n",
        "print(\"The Top-{} Most Influential Nodes in the Network are :\".format(k))\n",
        "for i in range(len(population[0])):\n",
        "    print(population[0][i])\n",
        "print(\"The Average Influence Spread Measure using Betweenness Centrality is :\", sum(population_LIE) / len(population_LIE))"
      ]
    },
    {
      "cell_type": "markdown",
      "metadata": {
        "id": "NHM3B5JSfmM8"
      },
      "source": [
        "### DSFLA using Closeness Centrality for Evolutionary process"
      ]
    },
    {
      "cell_type": "code",
      "execution_count": null,
      "metadata": {
        "id": "09Mc8PHifmM8"
      },
      "outputs": [],
      "source": [
        "for x in range(itr):\n",
        "    Px = close_mplx[0][0][0]\n",
        "    Px_LIE = close_mplx[0][0][1]\n",
        "    for i in range(1, m):\n",
        "        if close_mplx[i][0][1] < Px_LIE:\n",
        "            Px = close_mplx[i][0][0]\n",
        "            Px_LIE = close_mplx[i][0][1]\n",
        "    temp2 = LDR(Px, 4)\n",
        "    \n",
        "    for i in close_mplx:\n",
        "        sub_close_mplx, pos = create_sub_memeplex(i)\n",
        "        Pb, Pb_LIE = sub_close_mplx[0][0], sub_close_mplx[0][1]\n",
        "        Pw, Pw_LIE = sub_close_mplx[-1][0], sub_close_mplx[-1][1]\n",
        "        temp1 = LDR(Pb, 4)\n",
        "        temp3 = LDR(Pw, 4)\n",
        "        if LIE(temp1) > Pw_LIE:\n",
        "            Pw = temp1\n",
        "        elif LIE(temp2) > Pw_LIE:\n",
        "            Pw = temp2\n",
        "        elif LIE(temp3) > Pw_LIE:\n",
        "            Pw = temp3\n",
        "        else:\n",
        "            Pw = LDR_random()\n",
        "        Pw_LIE = LIE(Pw)\n",
        "        sub_close_mplx[-1] = [Pw, Pw_LIE]\n",
        "\n",
        "        j = 0\n",
        "        for p in pos:\n",
        "            i[p] = sub_close_mplx[j]\n",
        "            j += 1\n",
        "        \n",
        "        meme, meme_LIE = [], []\n",
        "        for p in i:\n",
        "            meme.append(p[0])\n",
        "            meme_LIE.append(p[1])\n",
        "        meme_LIE, meme = sort_memes(meme_LIE, meme)\n",
        "\n",
        "        for p in range(n):\n",
        "            i[p] = [meme[p], meme_LIE[p]]"
      ]
    },
    {
      "cell_type": "code",
      "execution_count": null,
      "metadata": {
        "id": "S69wewRjfmM8"
      },
      "outputs": [],
      "source": [
        "population = []\n",
        "population_LIE = []\n",
        "for i in close_mplx:\n",
        "    for j in i:\n",
        "        population.append(j[0])\n",
        "        population_LIE.append(j[1])\n",
        "population_LIE, population = sort_memes(population_LIE, population)\n",
        "    \n",
        "print(\"The Top-{} Most Influential Node have an Influence Spread Measure of - : {}\".format(k, population_LIE[0]))\n",
        "print(\"The Top-{} Most Influential Nodes in the Network are :\".format(k))\n",
        "for i in range(len(population[0])):\n",
        "    print(population[0][i])\n",
        "print(\"The Average Influence Spread Measure using Closeness Centrality is :\", sum(population_LIE) / len(population_LIE))"
      ]
    },
    {
      "cell_type": "markdown",
      "metadata": {
        "id": "uAwaYJKYfmM9"
      },
      "source": [
        "### DSFLA using Katz Centrality for Evolutionary process"
      ]
    },
    {
      "cell_type": "code",
      "execution_count": null,
      "metadata": {
        "id": "fkZ4-YvCfmM9"
      },
      "outputs": [],
      "source": [
        "for x in range(itr):\n",
        "    Px = katz_mplx[0][0][0]\n",
        "    Px_LIE = katz_mplx[0][0][1]\n",
        "    for i in range(1, m):\n",
        "        if katz_mplx[i][0][1] < Px_LIE:\n",
        "            Px = katz_mplx[i][0][0]\n",
        "            Px_LIE = katz_mplx[i][0][1]\n",
        "    temp2 = LDR(Px, 5)\n",
        "    \n",
        "    for i in katz_mplx:\n",
        "        sub_katz_mplx, pos = create_sub_memeplex(i)\n",
        "        Pb, Pb_LIE = sub_katz_mplx[0][0], sub_katz_mplx[0][1]\n",
        "        Pw, Pw_LIE = sub_katz_mplx[-1][0], sub_katz_mplx[-1][1]\n",
        "        temp1 = LDR(Pb, 5)\n",
        "        temp3 = LDR(Pw, 5)\n",
        "        if LIE(temp1) > Pw_LIE:\n",
        "            Pw = temp1\n",
        "        elif LIE(temp2) > Pw_LIE:\n",
        "            Pw = temp2\n",
        "        elif LIE(temp3) > Pw_LIE:\n",
        "            Pw = temp3\n",
        "        else:\n",
        "            Pw = LDR_random()\n",
        "        Pw_LIE = LIE(Pw)\n",
        "        sub_katz_mplx[-1] = [Pw, Pw_LIE]\n",
        "\n",
        "        j = 0\n",
        "        for p in pos:\n",
        "            i[p] = sub_katz_mplx[j]\n",
        "            j += 1\n",
        "        \n",
        "        meme, meme_LIE = [], []\n",
        "        for p in i:\n",
        "            meme.append(p[0])\n",
        "            meme_LIE.append(p[1])\n",
        "        meme_LIE, meme = sort_memes(meme_LIE, meme)\n",
        "\n",
        "        for p in range(n):\n",
        "            i[p] = [meme[p], meme_LIE[p]]"
      ]
    },
    {
      "cell_type": "code",
      "execution_count": null,
      "metadata": {
        "id": "SS1byVGAfmM9"
      },
      "outputs": [],
      "source": [
        "population = []\n",
        "population_LIE = []\n",
        "for i in katz_mplx:\n",
        "    for j in i:\n",
        "        population.append(j[0])\n",
        "        population_LIE.append(j[1])\n",
        "population_LIE, population = sort_memes(population_LIE, population)\n",
        "    \n",
        "print(\"The Top-{} Most Influential Node have an Influence Spread Measure of - : {}\".format(k, population_LIE[0]))\n",
        "print(\"The Top-{} Most Influential Nodes in the Network are :\".format(k))\n",
        "for i in range(len(population[0])):\n",
        "    print(population[0][i])\n",
        "print(\"The Average Influence Spread Measure using Katz Centrality is :\", sum(population_LIE) / len(population_LIE))"
      ]
    },
    {
      "cell_type": "markdown",
      "metadata": {
        "id": "sm8u2qNafmM-"
      },
      "source": [
        "### DSFLA using Percolation Centrality for Evolutionary process"
      ]
    },
    {
      "cell_type": "code",
      "execution_count": null,
      "metadata": {
        "id": "aRQ767QnfmM-"
      },
      "outputs": [],
      "source": [
        "for x in range(itr):\n",
        "    Px = perc_mplx[0][0][0]\n",
        "    Px_LIE = perc_mplx[0][0][1]\n",
        "    for i in range(1, m):\n",
        "        if perc_mplx[i][0][1] < Px_LIE:\n",
        "            Px = perc_mplx[i][0][0]\n",
        "            Px_LIE = perc_mplx[i][0][1]\n",
        "    temp2 = LDR(Px, 6)\n",
        "    \n",
        "    for i in perc_mplx:\n",
        "        sub_perc_mplx, pos = create_sub_memeplex(i)\n",
        "        Pb, Pb_LIE = sub_perc_mplx[0][0], sub_perc_mplx[0][1]\n",
        "        Pw, Pw_LIE = sub_perc_mplx[-1][0], sub_perc_mplx[-1][1]\n",
        "        temp1 = LDR(Pb, 6)\n",
        "        temp3 = LDR(Pw, 6)\n",
        "        if LIE(temp1) > Pw_LIE:\n",
        "            Pw = temp1\n",
        "        elif LIE(temp2) > Pw_LIE:\n",
        "            Pw = temp2\n",
        "        elif LIE(temp3) > Pw_LIE:\n",
        "            Pw = temp3\n",
        "        else:\n",
        "            Pw = LDR_random()\n",
        "        Pw_LIE = LIE(Pw)\n",
        "        sub_perc_mplx[-1] = [Pw, Pw_LIE]\n",
        "\n",
        "        j = 0\n",
        "        for p in pos:\n",
        "            i[p] = sub_perc_mplx[j]\n",
        "            j += 1\n",
        "        \n",
        "        meme, meme_LIE = [], []\n",
        "        for p in i:\n",
        "            meme.append(p[0])\n",
        "            meme_LIE.append(p[1])\n",
        "        meme_LIE, meme = sort_memes(meme_LIE, meme)\n",
        "\n",
        "        for p in range(n):\n",
        "            i[p] = [meme[p], meme_LIE[p]]"
      ]
    },
    {
      "cell_type": "code",
      "execution_count": null,
      "metadata": {
        "id": "h1FfwNg4fmM-"
      },
      "outputs": [],
      "source": [
        "population = []\n",
        "population_LIE = []\n",
        "for i in perc_mplx:\n",
        "    for j in i:\n",
        "        population.append(j[0])\n",
        "        population_LIE.append(j[1])\n",
        "population_LIE, population = sort_memes(population_LIE, population)\n",
        "    \n",
        "print(\"The Top-{} Most Influential Node have an Influence Spread Measure of - : {}\".format(k, population_LIE[0]))\n",
        "print(\"The Top-{} Most Influential Nodes in the Network are :\".format(k))\n",
        "for i in range(len(population[0])):\n",
        "    print(population[0][i])\n",
        "print(\"The Average Influence Spread Measure using Percolation Centrality is :\", sum(population_LIE) / len(population_LIE))"
      ]
    }
  ],
  "metadata": {
    "colab": {
      "collapsed_sections": [],
      "name": "minor-project-2-undirected-condmat.ipynb",
      "provenance": []
    },
    "kernelspec": {
      "display_name": "Python 3",
      "language": "python",
      "name": "python3"
    },
    "language_info": {
      "codemirror_mode": {
        "name": "ipython",
        "version": 3
      },
      "file_extension": ".py",
      "mimetype": "text/x-python",
      "name": "python",
      "nbconvert_exporter": "python",
      "pygments_lexer": "ipython3",
      "version": "3.7.12"
    }
  },
  "nbformat": 4,
  "nbformat_minor": 0
}