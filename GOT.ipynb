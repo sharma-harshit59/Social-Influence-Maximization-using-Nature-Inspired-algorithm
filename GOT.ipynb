{
  "metadata": {
    "kernelspec": {
      "language": "python",
      "display_name": "Python 3",
      "name": "python3"
    },
    "language_info": {
      "name": "python",
      "version": "3.7.12",
      "mimetype": "text/x-python",
      "codemirror_mode": {
        "name": "ipython",
        "version": 3
      },
      "pygments_lexer": "ipython3",
      "nbconvert_exporter": "python",
      "file_extension": ".py"
    },
    "colab": {
      "name": "minor-project-2-undirected-got.ipynb",
      "provenance": []
    }
  },
  "nbformat_minor": 0,
  "nbformat": 4,
  "cells": [
    {
      "cell_type": "code",
      "source": [
        "from google.colab import drive\n",
        "drive.mount('/content/drive')"
      ],
      "metadata": {
        "colab": {
          "base_uri": "https://localhost:8080/"
        },
        "id": "RvNzOR1hf3s2",
        "outputId": "dfa5d60f-27f3-49ae-fc32-b813ff756d2c"
      },
      "execution_count": null,
      "outputs": [
        {
          "output_type": "stream",
          "name": "stdout",
          "text": [
            "Drive already mounted at /content/drive; to attempt to forcibly remount, call drive.mount(\"/content/drive\", force_remount=True).\n"
          ]
        }
      ]
    },
    {
      "cell_type": "markdown",
      "source": [
        "# Discrete Shuffled Frog-leaping Algorithm for Social Influence Maximization"
      ],
      "metadata": {
        "id": "VvJtQFhdfmMh"
      }
    },
    {
      "cell_type": "code",
      "source": [
        "# Installing the NetworkX Library to work with Network Graphs & their Visualizations\n",
        "!pip install networkx"
      ],
      "metadata": {
        "id": "bRRcX5IHkgYQ",
        "outputId": "facf0c55-e31d-45a2-ae0b-0c426a30b601",
        "execution": {
          "iopub.status.busy": "2022-05-15T14:30:41.076529Z",
          "iopub.execute_input": "2022-05-15T14:30:41.076818Z",
          "iopub.status.idle": "2022-05-15T14:30:51.776148Z",
          "shell.execute_reply.started": "2022-05-15T14:30:41.076791Z",
          "shell.execute_reply": "2022-05-15T14:30:51.775511Z"
        },
        "trusted": true,
        "colab": {
          "base_uri": "https://localhost:8080/"
        }
      },
      "execution_count": null,
      "outputs": [
        {
          "output_type": "stream",
          "name": "stdout",
          "text": [
            "Requirement already satisfied: networkx in /usr/local/lib/python3.7/dist-packages (2.6.3)\n"
          ]
        }
      ]
    },
    {
      "cell_type": "markdown",
      "source": [
        "### Importing & Shaping Libraries, Modules & Datasets"
      ],
      "metadata": {
        "id": "NC_8kUm3fmMo"
      }
    },
    {
      "cell_type": "code",
      "source": [
        "# The NetworkX Library is a Python package for the creation, manipulation, and study of the structure, dynamics, and functions of complex networks\n",
        "import networkx as nx\n",
        "# The Pandas is a fast, powerful, flexible and easy to use open source data analysis and manipulation tool, built on top of the Python programming language\n",
        "import pandas as pd\n",
        "# The Matplotlib is a comprehensive library for creating static, animated, and interactive visualizations in Python\n",
        "import matplotlib.pyplot as plt\n",
        "# The Random Module is a built-in Python Module to work with Random Numbers\n",
        "import random\n",
        "import copy"
      ],
      "metadata": {
        "id": "OJLxBdvXk1Mu",
        "execution": {
          "iopub.status.busy": "2022-05-15T14:30:51.779106Z",
          "iopub.execute_input": "2022-05-15T14:30:51.779373Z",
          "iopub.status.idle": "2022-05-15T14:30:51.784465Z",
          "shell.execute_reply.started": "2022-05-15T14:30:51.779342Z",
          "shell.execute_reply": "2022-05-15T14:30:51.783706Z"
        },
        "trusted": true
      },
      "execution_count": null,
      "outputs": []
    },
    {
      "cell_type": "code",
      "source": [
        "# Generating a Dataframe from the books based on Game of Thrones\n",
        "books = []\n",
        "for i in range(0,5):\n",
        "    books.append(pd.read_csv(\"/content/drive/MyDrive/DSFLA Datasets/BOOKS/Book{}.csv\".format(i+1)))\n",
        "all_books = pd.concat(books)\n",
        "all_books.head()"
      ],
      "metadata": {
        "id": "ILsPVKV8SaAi",
        "outputId": "3fd3a305-abf6-456b-9e93-6a9b2545870f",
        "execution": {
          "iopub.status.busy": "2022-05-15T14:30:51.785574Z",
          "iopub.execute_input": "2022-05-15T14:30:51.785871Z",
          "iopub.status.idle": "2022-05-15T14:30:51.855505Z",
          "shell.execute_reply.started": "2022-05-15T14:30:51.785834Z",
          "shell.execute_reply": "2022-05-15T14:30:51.854589Z"
        },
        "trusted": true,
        "colab": {
          "base_uri": "https://localhost:8080/",
          "height": 206
        }
      },
      "execution_count": null,
      "outputs": [
        {
          "output_type": "execute_result",
          "data": {
            "text/plain": [
              "                            Source              Target        Type  weight  \\\n",
              "0                   Addam-Marbrand     Jaime-Lannister  Undirected       3   \n",
              "1                   Addam-Marbrand     Tywin-Lannister  Undirected       6   \n",
              "2                Aegon-I-Targaryen  Daenerys-Targaryen  Undirected       5   \n",
              "3                Aegon-I-Targaryen        Eddard-Stark  Undirected       4   \n",
              "4  Aemon-Targaryen-(Maester-Aemon)      Alliser-Thorne  Undirected       4   \n",
              "\n",
              "   book  \n",
              "0   1.0  \n",
              "1   1.0  \n",
              "2   1.0  \n",
              "3   1.0  \n",
              "4   1.0  "
            ],
            "text/html": [
              "\n",
              "  <div id=\"df-0f978c3a-17b4-4cf5-92da-aeb2b57e7ec7\">\n",
              "    <div class=\"colab-df-container\">\n",
              "      <div>\n",
              "<style scoped>\n",
              "    .dataframe tbody tr th:only-of-type {\n",
              "        vertical-align: middle;\n",
              "    }\n",
              "\n",
              "    .dataframe tbody tr th {\n",
              "        vertical-align: top;\n",
              "    }\n",
              "\n",
              "    .dataframe thead th {\n",
              "        text-align: right;\n",
              "    }\n",
              "</style>\n",
              "<table border=\"1\" class=\"dataframe\">\n",
              "  <thead>\n",
              "    <tr style=\"text-align: right;\">\n",
              "      <th></th>\n",
              "      <th>Source</th>\n",
              "      <th>Target</th>\n",
              "      <th>Type</th>\n",
              "      <th>weight</th>\n",
              "      <th>book</th>\n",
              "    </tr>\n",
              "  </thead>\n",
              "  <tbody>\n",
              "    <tr>\n",
              "      <th>0</th>\n",
              "      <td>Addam-Marbrand</td>\n",
              "      <td>Jaime-Lannister</td>\n",
              "      <td>Undirected</td>\n",
              "      <td>3</td>\n",
              "      <td>1.0</td>\n",
              "    </tr>\n",
              "    <tr>\n",
              "      <th>1</th>\n",
              "      <td>Addam-Marbrand</td>\n",
              "      <td>Tywin-Lannister</td>\n",
              "      <td>Undirected</td>\n",
              "      <td>6</td>\n",
              "      <td>1.0</td>\n",
              "    </tr>\n",
              "    <tr>\n",
              "      <th>2</th>\n",
              "      <td>Aegon-I-Targaryen</td>\n",
              "      <td>Daenerys-Targaryen</td>\n",
              "      <td>Undirected</td>\n",
              "      <td>5</td>\n",
              "      <td>1.0</td>\n",
              "    </tr>\n",
              "    <tr>\n",
              "      <th>3</th>\n",
              "      <td>Aegon-I-Targaryen</td>\n",
              "      <td>Eddard-Stark</td>\n",
              "      <td>Undirected</td>\n",
              "      <td>4</td>\n",
              "      <td>1.0</td>\n",
              "    </tr>\n",
              "    <tr>\n",
              "      <th>4</th>\n",
              "      <td>Aemon-Targaryen-(Maester-Aemon)</td>\n",
              "      <td>Alliser-Thorne</td>\n",
              "      <td>Undirected</td>\n",
              "      <td>4</td>\n",
              "      <td>1.0</td>\n",
              "    </tr>\n",
              "  </tbody>\n",
              "</table>\n",
              "</div>\n",
              "      <button class=\"colab-df-convert\" onclick=\"convertToInteractive('df-0f978c3a-17b4-4cf5-92da-aeb2b57e7ec7')\"\n",
              "              title=\"Convert this dataframe to an interactive table.\"\n",
              "              style=\"display:none;\">\n",
              "        \n",
              "  <svg xmlns=\"http://www.w3.org/2000/svg\" height=\"24px\"viewBox=\"0 0 24 24\"\n",
              "       width=\"24px\">\n",
              "    <path d=\"M0 0h24v24H0V0z\" fill=\"none\"/>\n",
              "    <path d=\"M18.56 5.44l.94 2.06.94-2.06 2.06-.94-2.06-.94-.94-2.06-.94 2.06-2.06.94zm-11 1L8.5 8.5l.94-2.06 2.06-.94-2.06-.94L8.5 2.5l-.94 2.06-2.06.94zm10 10l.94 2.06.94-2.06 2.06-.94-2.06-.94-.94-2.06-.94 2.06-2.06.94z\"/><path d=\"M17.41 7.96l-1.37-1.37c-.4-.4-.92-.59-1.43-.59-.52 0-1.04.2-1.43.59L10.3 9.45l-7.72 7.72c-.78.78-.78 2.05 0 2.83L4 21.41c.39.39.9.59 1.41.59.51 0 1.02-.2 1.41-.59l7.78-7.78 2.81-2.81c.8-.78.8-2.07 0-2.86zM5.41 20L4 18.59l7.72-7.72 1.47 1.35L5.41 20z\"/>\n",
              "  </svg>\n",
              "      </button>\n",
              "      \n",
              "  <style>\n",
              "    .colab-df-container {\n",
              "      display:flex;\n",
              "      flex-wrap:wrap;\n",
              "      gap: 12px;\n",
              "    }\n",
              "\n",
              "    .colab-df-convert {\n",
              "      background-color: #E8F0FE;\n",
              "      border: none;\n",
              "      border-radius: 50%;\n",
              "      cursor: pointer;\n",
              "      display: none;\n",
              "      fill: #1967D2;\n",
              "      height: 32px;\n",
              "      padding: 0 0 0 0;\n",
              "      width: 32px;\n",
              "    }\n",
              "\n",
              "    .colab-df-convert:hover {\n",
              "      background-color: #E2EBFA;\n",
              "      box-shadow: 0px 1px 2px rgba(60, 64, 67, 0.3), 0px 1px 3px 1px rgba(60, 64, 67, 0.15);\n",
              "      fill: #174EA6;\n",
              "    }\n",
              "\n",
              "    [theme=dark] .colab-df-convert {\n",
              "      background-color: #3B4455;\n",
              "      fill: #D2E3FC;\n",
              "    }\n",
              "\n",
              "    [theme=dark] .colab-df-convert:hover {\n",
              "      background-color: #434B5C;\n",
              "      box-shadow: 0px 1px 3px 1px rgba(0, 0, 0, 0.15);\n",
              "      filter: drop-shadow(0px 1px 2px rgba(0, 0, 0, 0.3));\n",
              "      fill: #FFFFFF;\n",
              "    }\n",
              "  </style>\n",
              "\n",
              "      <script>\n",
              "        const buttonEl =\n",
              "          document.querySelector('#df-0f978c3a-17b4-4cf5-92da-aeb2b57e7ec7 button.colab-df-convert');\n",
              "        buttonEl.style.display =\n",
              "          google.colab.kernel.accessAllowed ? 'block' : 'none';\n",
              "\n",
              "        async function convertToInteractive(key) {\n",
              "          const element = document.querySelector('#df-0f978c3a-17b4-4cf5-92da-aeb2b57e7ec7');\n",
              "          const dataTable =\n",
              "            await google.colab.kernel.invokeFunction('convertToInteractive',\n",
              "                                                     [key], {});\n",
              "          if (!dataTable) return;\n",
              "\n",
              "          const docLinkHtml = 'Like what you see? Visit the ' +\n",
              "            '<a target=\"_blank\" href=https://colab.research.google.com/notebooks/data_table.ipynb>data table notebook</a>'\n",
              "            + ' to learn more about interactive tables.';\n",
              "          element.innerHTML = '';\n",
              "          dataTable['output_type'] = 'display_data';\n",
              "          await google.colab.output.renderOutput(dataTable, element);\n",
              "          const docLink = document.createElement('div');\n",
              "          docLink.innerHTML = docLinkHtml;\n",
              "          element.appendChild(docLink);\n",
              "        }\n",
              "      </script>\n",
              "    </div>\n",
              "  </div>\n",
              "  "
            ]
          },
          "metadata": {},
          "execution_count": 4
        }
      ]
    },
    {
      "cell_type": "code",
      "source": [
        "# Converting the Dataframe structure into an Edgelist to feed into the NetworkX Library function\n",
        "edges = all_books.groupby(['Source','Target']).agg({'weight':'sum'}).reset_index()\n",
        "edges.sort_values('weight', ascending = False)"
      ],
      "metadata": {
        "id": "zpTKjObXMFS6",
        "outputId": "90faef9d-2094-4f52-9776-823a47fb84c3",
        "execution": {
          "iopub.status.busy": "2022-05-15T14:30:51.857941Z",
          "iopub.execute_input": "2022-05-15T14:30:51.858252Z",
          "iopub.status.idle": "2022-05-15T14:30:51.889021Z",
          "shell.execute_reply.started": "2022-05-15T14:30:51.858214Z",
          "shell.execute_reply": "2022-05-15T14:30:51.888121Z"
        },
        "trusted": true,
        "colab": {
          "base_uri": "https://localhost:8080/",
          "height": 424
        }
      },
      "execution_count": null,
      "outputs": [
        {
          "output_type": "execute_result",
          "data": {
            "text/plain": [
              "                     Source              Target  weight\n",
              "1334           Eddard-Stark    Robert-Baratheon     334\n",
              "2031               Jon-Snow       Samwell-Tarly     228\n",
              "1965      Joffrey-Baratheon         Sansa-Stark     222\n",
              "1972      Joffrey-Baratheon    Tyrion-Lannister     219\n",
              "640              Bran-Stark               Hodor     209\n",
              "...                     ...                 ...     ...\n",
              "1809        Jaime-Lannister            Joy-Hill       3\n",
              "1805        Jaime-Lannister            Jon-Snow       3\n",
              "1802          Jafer-Flowers       Jaremy-Rykker       3\n",
              "1801  Jaehaerys-I-Targaryen  Maegor-I-Targaryen       3\n",
              "0            Addam-Marbrand       Brynden-Tully       3\n",
              "\n",
              "[2823 rows x 3 columns]"
            ],
            "text/html": [
              "\n",
              "  <div id=\"df-811fe234-f7bb-4cee-b158-d6cd5997652b\">\n",
              "    <div class=\"colab-df-container\">\n",
              "      <div>\n",
              "<style scoped>\n",
              "    .dataframe tbody tr th:only-of-type {\n",
              "        vertical-align: middle;\n",
              "    }\n",
              "\n",
              "    .dataframe tbody tr th {\n",
              "        vertical-align: top;\n",
              "    }\n",
              "\n",
              "    .dataframe thead th {\n",
              "        text-align: right;\n",
              "    }\n",
              "</style>\n",
              "<table border=\"1\" class=\"dataframe\">\n",
              "  <thead>\n",
              "    <tr style=\"text-align: right;\">\n",
              "      <th></th>\n",
              "      <th>Source</th>\n",
              "      <th>Target</th>\n",
              "      <th>weight</th>\n",
              "    </tr>\n",
              "  </thead>\n",
              "  <tbody>\n",
              "    <tr>\n",
              "      <th>1334</th>\n",
              "      <td>Eddard-Stark</td>\n",
              "      <td>Robert-Baratheon</td>\n",
              "      <td>334</td>\n",
              "    </tr>\n",
              "    <tr>\n",
              "      <th>2031</th>\n",
              "      <td>Jon-Snow</td>\n",
              "      <td>Samwell-Tarly</td>\n",
              "      <td>228</td>\n",
              "    </tr>\n",
              "    <tr>\n",
              "      <th>1965</th>\n",
              "      <td>Joffrey-Baratheon</td>\n",
              "      <td>Sansa-Stark</td>\n",
              "      <td>222</td>\n",
              "    </tr>\n",
              "    <tr>\n",
              "      <th>1972</th>\n",
              "      <td>Joffrey-Baratheon</td>\n",
              "      <td>Tyrion-Lannister</td>\n",
              "      <td>219</td>\n",
              "    </tr>\n",
              "    <tr>\n",
              "      <th>640</th>\n",
              "      <td>Bran-Stark</td>\n",
              "      <td>Hodor</td>\n",
              "      <td>209</td>\n",
              "    </tr>\n",
              "    <tr>\n",
              "      <th>...</th>\n",
              "      <td>...</td>\n",
              "      <td>...</td>\n",
              "      <td>...</td>\n",
              "    </tr>\n",
              "    <tr>\n",
              "      <th>1809</th>\n",
              "      <td>Jaime-Lannister</td>\n",
              "      <td>Joy-Hill</td>\n",
              "      <td>3</td>\n",
              "    </tr>\n",
              "    <tr>\n",
              "      <th>1805</th>\n",
              "      <td>Jaime-Lannister</td>\n",
              "      <td>Jon-Snow</td>\n",
              "      <td>3</td>\n",
              "    </tr>\n",
              "    <tr>\n",
              "      <th>1802</th>\n",
              "      <td>Jafer-Flowers</td>\n",
              "      <td>Jaremy-Rykker</td>\n",
              "      <td>3</td>\n",
              "    </tr>\n",
              "    <tr>\n",
              "      <th>1801</th>\n",
              "      <td>Jaehaerys-I-Targaryen</td>\n",
              "      <td>Maegor-I-Targaryen</td>\n",
              "      <td>3</td>\n",
              "    </tr>\n",
              "    <tr>\n",
              "      <th>0</th>\n",
              "      <td>Addam-Marbrand</td>\n",
              "      <td>Brynden-Tully</td>\n",
              "      <td>3</td>\n",
              "    </tr>\n",
              "  </tbody>\n",
              "</table>\n",
              "<p>2823 rows × 3 columns</p>\n",
              "</div>\n",
              "      <button class=\"colab-df-convert\" onclick=\"convertToInteractive('df-811fe234-f7bb-4cee-b158-d6cd5997652b')\"\n",
              "              title=\"Convert this dataframe to an interactive table.\"\n",
              "              style=\"display:none;\">\n",
              "        \n",
              "  <svg xmlns=\"http://www.w3.org/2000/svg\" height=\"24px\"viewBox=\"0 0 24 24\"\n",
              "       width=\"24px\">\n",
              "    <path d=\"M0 0h24v24H0V0z\" fill=\"none\"/>\n",
              "    <path d=\"M18.56 5.44l.94 2.06.94-2.06 2.06-.94-2.06-.94-.94-2.06-.94 2.06-2.06.94zm-11 1L8.5 8.5l.94-2.06 2.06-.94-2.06-.94L8.5 2.5l-.94 2.06-2.06.94zm10 10l.94 2.06.94-2.06 2.06-.94-2.06-.94-.94-2.06-.94 2.06-2.06.94z\"/><path d=\"M17.41 7.96l-1.37-1.37c-.4-.4-.92-.59-1.43-.59-.52 0-1.04.2-1.43.59L10.3 9.45l-7.72 7.72c-.78.78-.78 2.05 0 2.83L4 21.41c.39.39.9.59 1.41.59.51 0 1.02-.2 1.41-.59l7.78-7.78 2.81-2.81c.8-.78.8-2.07 0-2.86zM5.41 20L4 18.59l7.72-7.72 1.47 1.35L5.41 20z\"/>\n",
              "  </svg>\n",
              "      </button>\n",
              "      \n",
              "  <style>\n",
              "    .colab-df-container {\n",
              "      display:flex;\n",
              "      flex-wrap:wrap;\n",
              "      gap: 12px;\n",
              "    }\n",
              "\n",
              "    .colab-df-convert {\n",
              "      background-color: #E8F0FE;\n",
              "      border: none;\n",
              "      border-radius: 50%;\n",
              "      cursor: pointer;\n",
              "      display: none;\n",
              "      fill: #1967D2;\n",
              "      height: 32px;\n",
              "      padding: 0 0 0 0;\n",
              "      width: 32px;\n",
              "    }\n",
              "\n",
              "    .colab-df-convert:hover {\n",
              "      background-color: #E2EBFA;\n",
              "      box-shadow: 0px 1px 2px rgba(60, 64, 67, 0.3), 0px 1px 3px 1px rgba(60, 64, 67, 0.15);\n",
              "      fill: #174EA6;\n",
              "    }\n",
              "\n",
              "    [theme=dark] .colab-df-convert {\n",
              "      background-color: #3B4455;\n",
              "      fill: #D2E3FC;\n",
              "    }\n",
              "\n",
              "    [theme=dark] .colab-df-convert:hover {\n",
              "      background-color: #434B5C;\n",
              "      box-shadow: 0px 1px 3px 1px rgba(0, 0, 0, 0.15);\n",
              "      filter: drop-shadow(0px 1px 2px rgba(0, 0, 0, 0.3));\n",
              "      fill: #FFFFFF;\n",
              "    }\n",
              "  </style>\n",
              "\n",
              "      <script>\n",
              "        const buttonEl =\n",
              "          document.querySelector('#df-811fe234-f7bb-4cee-b158-d6cd5997652b button.colab-df-convert');\n",
              "        buttonEl.style.display =\n",
              "          google.colab.kernel.accessAllowed ? 'block' : 'none';\n",
              "\n",
              "        async function convertToInteractive(key) {\n",
              "          const element = document.querySelector('#df-811fe234-f7bb-4cee-b158-d6cd5997652b');\n",
              "          const dataTable =\n",
              "            await google.colab.kernel.invokeFunction('convertToInteractive',\n",
              "                                                     [key], {});\n",
              "          if (!dataTable) return;\n",
              "\n",
              "          const docLinkHtml = 'Like what you see? Visit the ' +\n",
              "            '<a target=\"_blank\" href=https://colab.research.google.com/notebooks/data_table.ipynb>data table notebook</a>'\n",
              "            + ' to learn more about interactive tables.';\n",
              "          element.innerHTML = '';\n",
              "          dataTable['output_type'] = 'display_data';\n",
              "          await google.colab.output.renderOutput(dataTable, element);\n",
              "          const docLink = document.createElement('div');\n",
              "          docLink.innerHTML = docLinkHtml;\n",
              "          element.appendChild(docLink);\n",
              "        }\n",
              "      </script>\n",
              "    </div>\n",
              "  </div>\n",
              "  "
            ]
          },
          "metadata": {},
          "execution_count": 5
        }
      ]
    },
    {
      "cell_type": "code",
      "source": [
        "# Creating the NetworkX Graph using Pandas Edgelist\n",
        "GOT = nx.from_pandas_edgelist(edges, source = 'Source', target = 'Target', edge_attr = 'weight')\n",
        "print(nx.info(GOT))\n",
        "# Dictionary storing the Degree of each node in the Graph\n",
        "weighted_degrees = dict(nx.degree(GOT))"
      ],
      "metadata": {
        "id": "U0Ero_y9V7f9",
        "outputId": "d7ac4da5-4b99-4efd-af5b-e70f68078f1d",
        "execution": {
          "iopub.status.busy": "2022-05-15T14:30:51.890421Z",
          "iopub.execute_input": "2022-05-15T14:30:51.890884Z",
          "iopub.status.idle": "2022-05-15T14:30:51.915735Z",
          "shell.execute_reply.started": "2022-05-15T14:30:51.890840Z",
          "shell.execute_reply": "2022-05-15T14:30:51.914976Z"
        },
        "trusted": true,
        "colab": {
          "base_uri": "https://localhost:8080/"
        }
      },
      "execution_count": null,
      "outputs": [
        {
          "output_type": "stream",
          "name": "stdout",
          "text": [
            "Graph with 796 nodes and 2823 edges\n"
          ]
        }
      ]
    },
    {
      "cell_type": "markdown",
      "source": [
        "#### Creation & Calculation of Memeplexes for the Computation of Most Influential Nodes"
      ],
      "metadata": {
        "id": "lvwYdApmfmMu"
      }
    },
    {
      "cell_type": "code",
      "source": [
        "m = 5 # No. of memeplexes\n",
        "n = 5 # No. of memes in each memeplex\n",
        "k = 4 # No. of memetypes in each meme\n",
        "itr = 2 # No. of iterations\n",
        "F = m * n\n",
        "population = []\n",
        "for i in range(F):\n",
        "    population.append([random.choice(list(weighted_degrees)) for i in range(k)])\n",
        "\n",
        "# Printing the Randomly Generated Memes\n",
        "for i in range(len(population)):\n",
        "    print(\"Meme-{}\".format(i+1), population[i])"
      ],
      "metadata": {
        "id": "PACQBEnMXlzs",
        "outputId": "ac473007-3cc0-4533-99ed-c4f57c5c4dff",
        "execution": {
          "iopub.status.busy": "2022-05-15T14:30:51.916860Z",
          "iopub.execute_input": "2022-05-15T14:30:51.917092Z",
          "iopub.status.idle": "2022-05-15T14:30:51.930176Z",
          "shell.execute_reply.started": "2022-05-15T14:30:51.917065Z",
          "shell.execute_reply": "2022-05-15T14:30:51.929466Z"
        },
        "trusted": true,
        "colab": {
          "base_uri": "https://localhost:8080/"
        }
      },
      "execution_count": null,
      "outputs": [
        {
          "output_type": "stream",
          "name": "stdout",
          "text": [
            "Meme-1 ['Gorne', 'Maddy', 'Willas-Tyrell']\n",
            "Meme-2 ['Dunsen', 'Richard-Horpe', 'Cutjack']\n",
            "Meme-3 ['Jarman-Buckwell', 'Weasel', 'Tom-of-Sevenstreams']\n",
            "Meme-4 ['Tion-Frey', 'Dobber', 'Rhaegar-Targaryen']\n",
            "Meme-5 ['Fogo', 'Rugen', 'Ryk']\n",
            "Meme-6 ['Galazza-Galare', 'Tregar', 'Lollys-Stokeworth']\n",
            "Meme-7 ['Nan', 'Rossart', 'Nage']\n",
            "Meme-8 ['Ramsay-Snow', 'Imry-Florent', 'High-Sparrow']\n",
            "Meme-9 ['Renly-Baratheon', 'Elmar-Frey', 'Styr']\n",
            "Meme-10 ['Tormund', 'Tattered-Prince', 'Grenn']\n",
            "Meme-11 ['Lyle-Crakehall', 'Mikken', 'Jarl']\n",
            "Meme-12 ['Grazdan-mo-Eraz', 'Shagga', 'Pate-(novice)']\n",
            "Meme-13 ['Nan', 'Quhuru-Mo', 'Varys']\n",
            "Meme-14 ['Drennan', 'Halder', 'Vayon-Poole']\n",
            "Meme-15 ['Sweets', 'Hugh-Hungerford', 'Varamyr']\n",
            "Meme-16 ['Kurz', 'Xhondo', 'Tomard']\n",
            "Meme-17 ['Meryn-Trant', 'Jory-Cassel', 'Willam-Dustin']\n",
            "Meme-18 ['Daeron-II-Targaryen', 'Brandon-Norrey', 'Stonesnake']\n",
            "Meme-19 ['Godry-Farring', 'Joffrey-Baratheon', 'Eroeh']\n",
            "Meme-20 ['Fogo', 'Quaro', 'Balon-Swann']\n",
            "Meme-21 ['Cayn', 'Clydas', 'Tarber']\n",
            "Meme-22 ['Arron', 'Jon-Fossoway', 'Orell']\n",
            "Meme-23 ['Guyard-Morrigen', 'Maekar-I-Targaryen', 'Tanda-Stokeworth']\n",
            "Meme-24 ['Dunsen', 'Talea', 'Rhaegar-Frey']\n",
            "Meme-25 ['Wyl-(guard)', 'Camarron', 'Beth-Cassel']\n"
          ]
        }
      ]
    },
    {
      "cell_type": "code",
      "source": [
        "def one_hop_area(meme):\n",
        "    \"\"\"\n",
        "    Compute the One-Hop Area, i.e., the nodes adjacent to the nodes in the given meme\n",
        "    Parameters:\n",
        "        meme = Meme whose One Hop Area is to be calculated\n",
        "    Returns:\n",
        "        List of Nodes which are adjacent to atleast one node within a meme\n",
        "    \"\"\"\n",
        "    temp = [] # Temporary list to store the One-Hop Area nodes of the meme\n",
        "    for i in meme:\n",
        "        temp.extend(list(GOT.neighbors(i)))\n",
        "    return list(set(temp) - set(meme)) # Returning only unique nodes, to avoid Node Repetition\n",
        "\n",
        "def two_hop_area(meme):\n",
        "    \"\"\"\n",
        "    Compute the Two-Hop Area, i.e., the nodes adjacent to the One-Hop area nodes of the given meme\n",
        "    Parameters:\n",
        "        meme = Meme whose Two Hop Area is to be calculated\n",
        "    Returns:\n",
        "        List of Nodes which are adjacent to atleast one node within the One-Hop Area Nodes but not a part of the Meme\n",
        "    \"\"\"\n",
        "    one_hop = one_hop_area(meme)\n",
        "    temp = [] # Temporary list to store the Two-Hop Area nodes of the meme\n",
        "    for i in one_hop:\n",
        "        temp.extend(list(GOT.neighbors(i)))\n",
        "    return list(set(temp) - set(meme) - set(one_hop)) # Returning only unique nodes, to avoid Node Repetition\n",
        "\n",
        "def calc_pcm_prob(nodes):\n",
        "    \"\"\"\n",
        "    Calculates the Constant Propogation Cascade Probability of the nodes of the given meme\n",
        "    Parameters:\n",
        "        nodes = List of Nodes whose Cascade Probability has to be calculated\n",
        "    Returns:\n",
        "        List of Probabilities where ith probability corresponds to the Cascade Probability of the ith node of the list of given nodes\n",
        "    \"\"\"\n",
        "    prob = [] # Temporary List to store the corresponding Cascade Probability of the Nodes\n",
        "    for i in nodes:\n",
        "        prob.append(weighted_degrees[i] / GOT.number_of_nodes())\n",
        "    return prob\n",
        "\n",
        "def calc_edges(group1, group2):\n",
        "    \"\"\"\n",
        "    Calculates the number of edges each Group-2 Node has within the nodes Group-1 & Group-2\n",
        "    Parameters:\n",
        "        group1 = First Group of Nodes\n",
        "        group2 = Second Group of Nodes\n",
        "    Returns:\n",
        "        List of number of edges where ith entry corresponds to the number of edges Node-i of Group-2 has within nodes of Group-1 & Group-2\n",
        "    \"\"\"\n",
        "    count = [] # Temporary storage to store the Number of edges corresponding each node\n",
        "    for i in group2:\n",
        "        edges = list(nx.edges(GOT, nbunch = [i]))\n",
        "        temp = 0\n",
        "        for i in edges:\n",
        "            if (i[1] in group1) or (i[1] in group2):\n",
        "                temp += 1\n",
        "        count.append(temp)\n",
        "    return count\n",
        "\n",
        "def sum_pd(list1, list2):\n",
        "    \"\"\"\n",
        "    Computes the sum-product of entries of two list\n",
        "    Parameters:\n",
        "        list1: A List of Floating-point Numbers\n",
        "        list2: A List of Floating-point Numbers\n",
        "    Returns:\n",
        "        Sum of the Products of each corresponding Entry of the two lists\n",
        "    \"\"\"\n",
        "    p = 0 # Temporary variable to store the Sum-Product of the two lists\n",
        "    for i in range(len(list1)):\n",
        "        p += (list1[i] * list2[i])\n",
        "    return p\n",
        "\n",
        "def calc_edge_prob(meme, one_hop):\n",
        "    \"\"\"\n",
        "    Returns the sum of the Edges probabilities of the nodes with their One-Hop area nodes\n",
        "    Parameters:\n",
        "        meme = Meme whose nodes' edge probabilities have to be calculated\n",
        "        one_hop = One-Hop Area nodes of the given meme\n",
        "    Returns:\n",
        "        Sum of the Edge Probabilities using the formula - 1 - Product(1 - Pij)\n",
        "    \"\"\"\n",
        "    N = GOT.number_of_nodes() # Total Nodes in the Graph\n",
        "    prob_sum = 0 # Temporary variable to store the sum of the Edge Probabilities\n",
        "    for i in one_hop:\n",
        "        prob_prod = 1\n",
        "        for j in meme:\n",
        "            pij = 0.01\n",
        "            pij += ((GOT.degree(i) + GOT.degree(j)) / N)\n",
        "            pij += (len(list(nx.common_neighbors(GOT, i, j))) / N)\n",
        "            prob_prod *= (1 - pij)\n",
        "        prob_sum += (1 - prob_prod)\n",
        "    return prob_sum\n",
        "\n",
        "def LIE(meme):\n",
        "    \"\"\"\n",
        "    Calculates the Local Influence Spread Measure of the nodes of the meme\n",
        "    Parameters:\n",
        "        meme = Meme whose LIE value has to be calculated\n",
        "    Returns:\n",
        "        A Floating-point Number denoting the Local Influence Spread Measure\n",
        "    \"\"\"\n",
        "    Ns1_S = one_hop_area(meme) # One-Hop area of the Meme\n",
        "    Ns2_S = two_hop_area(meme) # Two-Hop Area of the Meme\n",
        "    pu = calc_pcm_prob(Ns2_S)\n",
        "    du = calc_edges(Ns1_S, Ns2_S)\n",
        "    return k + ((1 + ((1 / len(Ns1_S)) * sum_pd(pu, du))) * calc_edge_prob(meme, Ns1_S))\n",
        "\n",
        "def sort_memes(ppl_lie, ppl):\n",
        "    \"\"\"\n",
        "    Sorts the Population of Memes on the basis of their LIE values\n",
        "    Parameters:\n",
        "        ppl_lie = LIE values of each corresponding meme\n",
        "        ppl = Population of Memes\n",
        "    Returns:\n",
        "        Tuple of List denoting the Sorted LIE values and Population of Memes in descending order\n",
        "    \"\"\"\n",
        "    result = sorted(list(zip(ppl_lie, ppl)), reverse = True)\n",
        "    result = zip(*result)\n",
        "    result = [list(tuple) for tuple in result]\n",
        "    return result[0], result[1]"
      ],
      "metadata": {
        "id": "NvcZpnidnTOg",
        "execution": {
          "iopub.status.busy": "2022-05-15T14:30:51.931615Z",
          "iopub.execute_input": "2022-05-15T14:30:51.932077Z",
          "iopub.status.idle": "2022-05-15T14:30:51.953802Z",
          "shell.execute_reply.started": "2022-05-15T14:30:51.932034Z",
          "shell.execute_reply": "2022-05-15T14:30:51.953233Z"
        },
        "trusted": true
      },
      "execution_count": null,
      "outputs": []
    },
    {
      "cell_type": "code",
      "source": [
        "population_LIE = [] # List to store the LIE values of all memes\n",
        "for i in range(F):\n",
        "    population_LIE.append(LIE(population[i]))\n",
        "# Sorting the Memes on the basis of their LIE values\n",
        "population_LIE, population = sort_memes(population_LIE, population)"
      ],
      "metadata": {
        "id": "JRbZOHaTJAp-",
        "execution": {
          "iopub.status.busy": "2022-05-15T14:30:51.954739Z",
          "iopub.execute_input": "2022-05-15T14:30:51.954999Z",
          "iopub.status.idle": "2022-05-15T14:30:52.342508Z",
          "shell.execute_reply.started": "2022-05-15T14:30:51.954952Z",
          "shell.execute_reply": "2022-05-15T14:30:52.341626Z"
        },
        "trusted": true
      },
      "execution_count": null,
      "outputs": []
    },
    {
      "cell_type": "code",
      "source": [
        "print(\"The Meme-wise sorted LIE values are as follows -\")\n",
        "for i in range(len(population)):\n",
        "    print(\"Meme-{} :\".format(i+1), population_LIE[i], population[i])\n",
        "\n",
        "print(\"\\nThe Top-{} Most Influential Node have an Influence Spread Measure of - : {}\".format(k, population_LIE[0]))\n",
        "print(\"The Top-{} Most Influential Nodes in the Network are :\".format(k))\n",
        "for i in range(len(population[0])):\n",
        "    print(population[0][i])\n",
        "print(\"The Average Influence Spread Measure using Degree Centrality is :\", sum(population_LIE) / len(population_LIE))"
      ],
      "metadata": {
        "id": "M8fH-Wq4cuA_",
        "outputId": "d86ef308-67ac-49cc-f579-d154b86aebd6",
        "execution": {
          "iopub.status.busy": "2022-05-15T14:30:52.343619Z",
          "iopub.execute_input": "2022-05-15T14:30:52.343836Z",
          "iopub.status.idle": "2022-05-15T14:30:52.360903Z",
          "shell.execute_reply.started": "2022-05-15T14:30:52.343809Z",
          "shell.execute_reply": "2022-05-15T14:30:52.355981Z"
        },
        "trusted": true,
        "colab": {
          "base_uri": "https://localhost:8080/"
        }
      },
      "execution_count": null,
      "outputs": [
        {
          "output_type": "stream",
          "name": "stdout",
          "text": [
            "The Meme-wise sorted LIE values are as follows -\n",
            "Meme-1 : 29.288365280018922 ['Godry-Farring', 'Joffrey-Baratheon', 'Eroeh']\n",
            "Meme-2 : 25.749061692141268 ['Meryn-Trant', 'Jory-Cassel', 'Willam-Dustin']\n",
            "Meme-3 : 24.724725588351433 ['Drennan', 'Halder', 'Vayon-Poole']\n",
            "Meme-4 : 24.712868905741885 ['Renly-Baratheon', 'Elmar-Frey', 'Styr']\n",
            "Meme-5 : 24.261009010303397 ['Nan', 'Quhuru-Mo', 'Varys']\n",
            "Meme-6 : 23.240348784585017 ['Ramsay-Snow', 'Imry-Florent', 'High-Sparrow']\n",
            "Meme-7 : 22.817457788024672 ['Tion-Frey', 'Dobber', 'Rhaegar-Targaryen']\n",
            "Meme-8 : 21.454259611029237 ['Fogo', 'Quaro', 'Balon-Swann']\n",
            "Meme-9 : 21.224244954490626 ['Gorne', 'Maddy', 'Willas-Tyrell']\n",
            "Meme-10 : 20.948082773644742 ['Guyard-Morrigen', 'Maekar-I-Targaryen', 'Tanda-Stokeworth']\n",
            "Meme-11 : 20.881067782626857 ['Wyl-(guard)', 'Camarron', 'Beth-Cassel']\n",
            "Meme-12 : 20.051245093419013 ['Dunsen', 'Richard-Horpe', 'Cutjack']\n",
            "Meme-13 : 20.04881722980057 ['Kurz', 'Xhondo', 'Tomard']\n",
            "Meme-14 : 19.438006023254438 ['Nan', 'Rossart', 'Nage']\n",
            "Meme-15 : 19.15458201534796 ['Lyle-Crakehall', 'Mikken', 'Jarl']\n",
            "Meme-16 : 18.983834510420408 ['Galazza-Galare', 'Tregar', 'Lollys-Stokeworth']\n",
            "Meme-17 : 18.908711302781217 ['Cayn', 'Clydas', 'Tarber']\n",
            "Meme-18 : 18.602948699192623 ['Dunsen', 'Talea', 'Rhaegar-Frey']\n",
            "Meme-19 : 16.492241553532942 ['Sweets', 'Hugh-Hungerford', 'Varamyr']\n",
            "Meme-20 : 14.378792383548223 ['Tormund', 'Tattered-Prince', 'Grenn']\n",
            "Meme-21 : 14.072406675227302 ['Jarman-Buckwell', 'Weasel', 'Tom-of-Sevenstreams']\n",
            "Meme-22 : 12.378697489945827 ['Daeron-II-Targaryen', 'Brandon-Norrey', 'Stonesnake']\n",
            "Meme-23 : 11.988539630091994 ['Grazdan-mo-Eraz', 'Shagga', 'Pate-(novice)']\n",
            "Meme-24 : 9.331288546826567 ['Arron', 'Jon-Fossoway', 'Orell']\n",
            "Meme-25 : 8.609591412522864 ['Fogo', 'Rugen', 'Ryk']\n",
            "\n",
            "The Top-3 Most Influential Node have an Influence Spread Measure of - : 29.288365280018922\n",
            "The Top-3 Most Influential Nodes in the Network are :\n",
            "Godry-Farring\n",
            "Joffrey-Baratheon\n",
            "Eroeh\n",
            "The Average Influence Spread Measure using Degree Centrality is : 19.269647789474803\n"
          ]
        }
      ]
    },
    {
      "cell_type": "markdown",
      "source": [
        "##### Memeplex Creation"
      ],
      "metadata": {
        "id": "0mW9BNJifmM1"
      }
    },
    {
      "cell_type": "code",
      "source": [
        "population = list(zip(population, population_LIE))\n",
        "\n",
        "# Creating Memeplexes using Uniform Distribution of Memes based on their LIE values\n",
        "memeplex = []\n",
        "for i in range(m):\n",
        "    meme = []\n",
        "    for j in range(n):\n",
        "        meme.append(population[i + (j * m)])\n",
        "    memeplex.append(meme)"
      ],
      "metadata": {
        "id": "SKXC-Epr4kGc",
        "execution": {
          "iopub.status.busy": "2022-05-15T14:30:52.366403Z",
          "iopub.execute_input": "2022-05-15T14:30:52.366635Z",
          "iopub.status.idle": "2022-05-15T14:30:52.371795Z",
          "shell.execute_reply.started": "2022-05-15T14:30:52.366608Z",
          "shell.execute_reply": "2022-05-15T14:30:52.371234Z"
        },
        "trusted": true
      },
      "execution_count": null,
      "outputs": []
    },
    {
      "cell_type": "code",
      "source": [
        "print(\"The Generated Memeplexes are as follows -\")\n",
        "for i in range(m):\n",
        "    print(\"\\nMemeplex - {} :\".format(i+1))\n",
        "    for j in range(n):\n",
        "        print(memeplex[i][j][1], memeplex[i][j][0])"
      ],
      "metadata": {
        "id": "HxZqQjDZxupT",
        "outputId": "93a710eb-41fa-4c31-fab9-8e032da79a27",
        "execution": {
          "iopub.status.busy": "2022-05-15T14:30:52.372645Z",
          "iopub.execute_input": "2022-05-15T14:30:52.372831Z",
          "iopub.status.idle": "2022-05-15T14:30:52.389670Z",
          "shell.execute_reply.started": "2022-05-15T14:30:52.372808Z",
          "shell.execute_reply": "2022-05-15T14:30:52.388904Z"
        },
        "trusted": true,
        "colab": {
          "base_uri": "https://localhost:8080/"
        }
      },
      "execution_count": null,
      "outputs": [
        {
          "output_type": "stream",
          "name": "stdout",
          "text": [
            "The Generated Memeplexes are as follows -\n",
            "\n",
            "Memeplex - 1 :\n",
            "29.288365280018922 ['Godry-Farring', 'Joffrey-Baratheon', 'Eroeh']\n",
            "23.240348784585017 ['Ramsay-Snow', 'Imry-Florent', 'High-Sparrow']\n",
            "20.881067782626857 ['Wyl-(guard)', 'Camarron', 'Beth-Cassel']\n",
            "18.983834510420408 ['Galazza-Galare', 'Tregar', 'Lollys-Stokeworth']\n",
            "14.072406675227302 ['Jarman-Buckwell', 'Weasel', 'Tom-of-Sevenstreams']\n",
            "\n",
            "Memeplex - 2 :\n",
            "25.749061692141268 ['Meryn-Trant', 'Jory-Cassel', 'Willam-Dustin']\n",
            "22.817457788024672 ['Tion-Frey', 'Dobber', 'Rhaegar-Targaryen']\n",
            "20.051245093419013 ['Dunsen', 'Richard-Horpe', 'Cutjack']\n",
            "18.908711302781217 ['Cayn', 'Clydas', 'Tarber']\n",
            "12.378697489945827 ['Daeron-II-Targaryen', 'Brandon-Norrey', 'Stonesnake']\n",
            "\n",
            "Memeplex - 3 :\n",
            "24.724725588351433 ['Drennan', 'Halder', 'Vayon-Poole']\n",
            "21.454259611029237 ['Fogo', 'Quaro', 'Balon-Swann']\n",
            "20.04881722980057 ['Kurz', 'Xhondo', 'Tomard']\n",
            "18.602948699192623 ['Dunsen', 'Talea', 'Rhaegar-Frey']\n",
            "11.988539630091994 ['Grazdan-mo-Eraz', 'Shagga', 'Pate-(novice)']\n",
            "\n",
            "Memeplex - 4 :\n",
            "24.712868905741885 ['Renly-Baratheon', 'Elmar-Frey', 'Styr']\n",
            "21.224244954490626 ['Gorne', 'Maddy', 'Willas-Tyrell']\n",
            "19.438006023254438 ['Nan', 'Rossart', 'Nage']\n",
            "16.492241553532942 ['Sweets', 'Hugh-Hungerford', 'Varamyr']\n",
            "9.331288546826567 ['Arron', 'Jon-Fossoway', 'Orell']\n",
            "\n",
            "Memeplex - 5 :\n",
            "24.261009010303397 ['Nan', 'Quhuru-Mo', 'Varys']\n",
            "20.948082773644742 ['Guyard-Morrigen', 'Maekar-I-Targaryen', 'Tanda-Stokeworth']\n",
            "19.15458201534796 ['Lyle-Crakehall', 'Mikken', 'Jarl']\n",
            "14.378792383548223 ['Tormund', 'Tattered-Prince', 'Grenn']\n",
            "8.609591412522864 ['Fogo', 'Rugen', 'Ryk']\n"
          ]
        }
      ]
    },
    {
      "cell_type": "code",
      "source": [
        "def sort_nodes(nodes, centrality):\n",
        "    \"\"\"\n",
        "    Sorts the Nodes in the given list of nodes based on the corresponding Centrality Measure of each node\n",
        "    Parameters:\n",
        "        nodes = List of nodes which has to be sorted\n",
        "        centrality = List of Centrality Measures corresponding to each node in the list\n",
        "    Returns:\n",
        "        List of nodes sorted on the basis of their Centrality Measure in descending order\n",
        "    \"\"\"\n",
        "    result = sorted(list(zip(centrality, nodes)), reverse = True)\n",
        "    result = zip(*result)\n",
        "    result = [list(tuple) for tuple in result]\n",
        "    return result[1]\n",
        "\n",
        "def sort_degree_centrality(nodes):\n",
        "    \"\"\"\n",
        "    Calculates the Degree Centrality of each Node in the given list of nodes and returns a descendingly sorted list of nodes\n",
        "    Parameters:\n",
        "        nodes = List of nodes to be sorted on the basis of the Centrality Measure\n",
        "    Returns:\n",
        "        List of Nodes sorted in descending order on the basis of the Centrality Measure\n",
        "    \"\"\"\n",
        "    centrality = nx.degree_centrality(GOT)\n",
        "    cen_measure = []\n",
        "    for i in nodes:\n",
        "        cen_measure.append(centrality[i])\n",
        "    return sort_nodes(nodes, cen_measure)\n",
        "\n",
        "def sort_eigenvector_centrality(nodes):\n",
        "    \"\"\"\n",
        "    Calculates the Eigenvector Centrality of each Node in the given list of nodes and returns a descendingly sorted list of nodes\n",
        "    Parameters:\n",
        "        nodes = List of nodes to be sorted on the basis of the Centrality Measure\n",
        "    Returns:\n",
        "        List of Nodes sorted in descending order on the basis of the Centrality Measure\n",
        "    \"\"\"\n",
        "    centrality = nx.degree_centrality(GOT)\n",
        "    cen_measure = []\n",
        "    for i in nodes:\n",
        "        cen_measure.append(centrality[i])\n",
        "    return sort_nodes(nodes, cen_measure)\n",
        "\n",
        "def sort_betweenness_centrality(nodes):\n",
        "    \"\"\"\n",
        "    Calculates the Betweenness Centrality of each Node in the given list of nodes and returns a descendingly sorted list of nodes\n",
        "    Parameters:\n",
        "        nodes = List of nodes to be sorted on the basis of the Centrality Measure\n",
        "    Returns:\n",
        "        List of Nodes sorted in descending order on the basis of the Centrality Measure\n",
        "    \"\"\"\n",
        "    centrality = nx.degree_centrality(GOT)\n",
        "    cen_measure = []\n",
        "    for i in nodes:\n",
        "        cen_measure.append(centrality[i])\n",
        "    return sort_nodes(nodes, cen_measure)\n",
        "\n",
        "def sort_closeness_centrality(nodes):\n",
        "    \"\"\"\n",
        "    Calculates the Closeness Centrality of each Node in the given list of nodes and returns a descendingly sorted list of nodes\n",
        "    Parameters:\n",
        "        nodes = List of nodes to be sorted on the basis of the Centrality Measure\n",
        "    Returns:\n",
        "        List of Nodes sorted in descending order on the basis of the Centrality Measure\n",
        "    \"\"\"\n",
        "    centrality = nx.degree_centrality(GOT)\n",
        "    cen_measure = []\n",
        "    for i in nodes:\n",
        "        cen_measure.append(centrality[i])\n",
        "    return sort_nodes(nodes, cen_measure)\n",
        "\n",
        "def sort_katz_centrality(nodes):\n",
        "    \"\"\"\n",
        "    Calculates the Katz Centrality of each Node in the given list of nodes and returns a descendingly sorted list of nodes\n",
        "    Parameters:\n",
        "        nodes = List of nodes to be sorted on the basis of the Centrality Measure\n",
        "    Returns:\n",
        "        List of Nodes sorted in descending order on the basis of the Centrality Measure\n",
        "    \"\"\"\n",
        "    centrality = nx.degree_centrality(GOT)\n",
        "    cen_measure = []\n",
        "    for i in nodes:\n",
        "        cen_measure.append(centrality[i])\n",
        "    return sort_nodes(nodes, cen_measure)\n",
        "\n",
        "def sort_percolation_centrality(nodes):\n",
        "    \"\"\"\n",
        "    Calculates the Percolation Centrality of each Node in the given list of nodes and returns a descendingly sorted list of nodes\n",
        "    Parameters:\n",
        "        nodes = List of nodes to be sorted on the basis of the Centrality Measure\n",
        "    Returns:\n",
        "        List of Nodes sorted in descending order on the basis of the Centrality Measure\n",
        "    \"\"\"\n",
        "    centrality = nx.degree_centrality(GOT)\n",
        "    cen_measure = []\n",
        "    for i in nodes:\n",
        "        cen_measure.append(centrality[i])\n",
        "    return sort_nodes(nodes, cen_measure)\n",
        "\n",
        "def LDR(meme, flag):\n",
        "    \"\"\"\n",
        "    Calculates the Local-Replacement group for the given meme for the Evolutionary Algorithm\n",
        "    Parameters:\n",
        "        meme = Meme whose Local-Replacement group has to be calculated\n",
        "        flag = an integer (1-5) to denote the Centrality Measure to be used for the Evolution Process\n",
        "                1 - Degree Centrality\n",
        "                2 - Eigenvector Centrality\n",
        "                3 - Betweenness Centrality\n",
        "                4 - Closeness Centrality\n",
        "                5 - Katz Centrality\n",
        "                6 - Percolation Centrality\n",
        "    Returns:\n",
        "        A List of Top-Centrality nodes equal to the length of the passed meme\n",
        "    \"\"\"\n",
        "    new_meme = [] # New Meme to improve the worst Meme(Frog) w.r.t. the Local/Global Best Meme (Frog)\n",
        "    N1 = []\n",
        "    for i in meme: # For each Memetype in the Meme\n",
        "        N1.extend(list(GOT.neighbors(i)))\n",
        "    N1 = list(set(N1))\n",
        "    # Sort Function to sort the One Hop Neighbors of the memetype based on the basis of Centrality Metric\n",
        "    if flag == 1:\n",
        "        SN1 = sort_degree_centrality(N1)\n",
        "    elif flag == 2:\n",
        "        SN1 = sort_eigenvector_centrality(N1)\n",
        "    elif flag == 3:\n",
        "        SN1 = sort_betweenness_centrality(N1)\n",
        "    elif flag == 4:\n",
        "        SN1 = sort_closeness_centrality(N1)\n",
        "    elif flag == 5:\n",
        "        SN1 = sort_katz_centrality(N1)\n",
        "    else:\n",
        "        SN1 = sort_percolation_centrality(N1)\n",
        "    for i in range(k):\n",
        "        new_meme.append(SN1[i])\n",
        "    return new_meme\n",
        "\n",
        "def LDR_random():\n",
        "    \"\"\"\n",
        "    Calculates a Random Meme for Local-Replacement\n",
        "    Parameters:\n",
        "        None\n",
        "    Returns:\n",
        "        A List of randomly selected nodes equal to the length of the passed meme\n",
        "    \"\"\"\n",
        "    return [random.choice(list(weighted_degrees)) for i in range(k)]\n",
        "\n",
        "def create_sub_memeplex(memeplex):\n",
        "    \"\"\"\n",
        "    Generates a Sub-memeplex for a given Memeplex\n",
        "    Parameters:\n",
        "        memeplex = Memeplex whose Sub-Memeplex has to be calculated\n",
        "    Returns:\n",
        "        A Sub-Memeplex\n",
        "        A List of positions(indices) to locate the corresponding memes within the memeplex\n",
        "    \"\"\"\n",
        "    sub = []\n",
        "    for i in range(n):\n",
        "        sub.append(random.randint(0, n-1))\n",
        "    sub = list(set(sub))\n",
        "    sub_memeplex = [memeplex[i] for i in sub]\n",
        "    return sub_memeplex, sub"
      ],
      "metadata": {
        "id": "PpbrqDhz7UI5",
        "execution": {
          "iopub.status.busy": "2022-05-15T14:30:52.390900Z",
          "iopub.execute_input": "2022-05-15T14:30:52.391246Z",
          "iopub.status.idle": "2022-05-15T14:30:52.414691Z",
          "shell.execute_reply.started": "2022-05-15T14:30:52.391209Z",
          "shell.execute_reply": "2022-05-15T14:30:52.413597Z"
        },
        "trusted": true
      },
      "execution_count": null,
      "outputs": []
    },
    {
      "cell_type": "code",
      "source": [
        "degree_mplx = copy.deepcopy(memeplex)\n",
        "eigen_mplx = copy.deepcopy(memeplex)\n",
        "between_mplx = copy.deepcopy(memeplex)\n",
        "close_mplx = copy.deepcopy(memeplex)\n",
        "katz_mplx = copy.deepcopy(memeplex)\n",
        "perc_mplx = copy.deepcopy(memeplex)"
      ],
      "metadata": {
        "execution": {
          "iopub.status.busy": "2022-05-15T14:30:52.415828Z",
          "iopub.execute_input": "2022-05-15T14:30:52.416054Z",
          "iopub.status.idle": "2022-05-15T14:30:52.431119Z",
          "shell.execute_reply.started": "2022-05-15T14:30:52.416019Z",
          "shell.execute_reply": "2022-05-15T14:30:52.430379Z"
        },
        "trusted": true,
        "id": "srem1S1ofmM4"
      },
      "execution_count": null,
      "outputs": []
    },
    {
      "cell_type": "markdown",
      "source": [
        "### DSFLA using Degree Centrality for Evolutionary process"
      ],
      "metadata": {
        "id": "nkndY81HfmM4"
      }
    },
    {
      "cell_type": "code",
      "source": [
        "for x in range(itr):\n",
        "    Px = degree_mplx[0][0][0]\n",
        "    Px_LIE = degree_mplx[0][0][1]\n",
        "    for i in range(1, m):\n",
        "        if degree_mplx[i][0][1] < Px_LIE:\n",
        "            Px = degree_mplx[i][0][0]\n",
        "            Px_LIE = degree_mplx[i][0][1]\n",
        "    temp2 = LDR(Px, 1)\n",
        "    \n",
        "    for i in degree_mplx:\n",
        "        sub_degree_mplx, pos = create_sub_memeplex(i)\n",
        "        Pb, Pb_LIE = sub_degree_mplx[0][0], sub_degree_mplx[0][1]\n",
        "        Pw, Pw_LIE = sub_degree_mplx[-1][0], sub_degree_mplx[-1][1]\n",
        "        temp1 = LDR(Pb, 1)\n",
        "        temp1 = LDR(Pb, 1)\n",
        "        if LIE(temp1) > Pw_LIE:\n",
        "            Pw = temp1\n",
        "        elif LIE(temp2) > Pw_LIE:\n",
        "            Pw = temp2\n",
        "        elif LIE(temp3) > Pw_LIE:\n",
        "            Pw = temp3\n",
        "        else:\n",
        "            Pw = LDR_random()\n",
        "        Pw_LIE = LIE(Pw)\n",
        "        sub_degree_mplx[-1] = [Pw, Pw_LIE]\n",
        "\n",
        "        j = 0\n",
        "        for p in pos:\n",
        "            i[p] = sub_degree_mplx[j]\n",
        "            j += 1\n",
        "        \n",
        "        meme, meme_LIE = [], []\n",
        "        for p in i:\n",
        "            meme.append(p[0])\n",
        "            meme_LIE.append(p[1])\n",
        "        meme_LIE, meme = sort_memes(meme_LIE, meme)\n",
        "\n",
        "        for p in range(n):\n",
        "            i[p] = [meme[p], meme_LIE[p]]"
      ],
      "metadata": {
        "id": "rzUMyHWl7cBT",
        "_kg_hide-output": false,
        "execution": {
          "iopub.status.busy": "2022-05-15T14:30:52.432086Z",
          "iopub.execute_input": "2022-05-15T14:30:52.432312Z",
          "iopub.status.idle": "2022-05-15T14:30:52.956772Z",
          "shell.execute_reply.started": "2022-05-15T14:30:52.432285Z",
          "shell.execute_reply": "2022-05-15T14:30:52.956201Z"
        },
        "trusted": true
      },
      "execution_count": null,
      "outputs": []
    },
    {
      "cell_type": "code",
      "source": [
        "population = []\n",
        "population_LIE = []\n",
        "for i in degree_mplx:\n",
        "    for j in i:\n",
        "        population.append(j[0])\n",
        "        population_LIE.append(j[1])\n",
        "population_LIE, population = sort_memes(population_LIE, population)\n",
        "    \n",
        "print(\"The Top-{} Most Influential Node have an Influence Spread Measure of - : {}\".format(k, population_LIE[0]))\n",
        "print(\"The Top-{} Most Influential Nodes in the Network are :\".format(k))\n",
        "for i in range(len(population[0])):\n",
        "    print(population[0][i])\n",
        "print(\"The Average Influence Spread Measure using Degree Centrality is :\", sum(population_LIE) / len(population_LIE))"
      ],
      "metadata": {
        "id": "nTf71tJVCNqI",
        "outputId": "436f8c5e-adf6-4d82-f8f7-6c02b65e0eb2",
        "execution": {
          "iopub.status.busy": "2022-05-15T14:30:52.957693Z",
          "iopub.execute_input": "2022-05-15T14:30:52.958425Z",
          "iopub.status.idle": "2022-05-15T14:30:52.965671Z",
          "shell.execute_reply.started": "2022-05-15T14:30:52.958391Z",
          "shell.execute_reply": "2022-05-15T14:30:52.965168Z"
        },
        "trusted": true,
        "colab": {
          "base_uri": "https://localhost:8080/"
        }
      },
      "execution_count": null,
      "outputs": [
        {
          "output_type": "stream",
          "name": "stdout",
          "text": [
            "The Top-3 Most Influential Node have an Influence Spread Measure of - : 125.53717348343791\n",
            "The Top-3 Most Influential Nodes in the Network are :\n",
            "Tyrion-Lannister\n",
            "Jon-Snow\n",
            "Jaime-Lannister\n",
            "The Average Influence Spread Measure using Degree Centrality is : 41.05833042406098\n"
          ]
        }
      ]
    },
    {
      "cell_type": "markdown",
      "source": [
        "### DSFLA using Eigenvector Centrality for Evolutionary process"
      ],
      "metadata": {
        "id": "6mB84gZefmM6"
      }
    },
    {
      "cell_type": "code",
      "source": [
        "for x in range(itr):\n",
        "    Px = eigen_mplx[0][0][0]\n",
        "    Px_LIE = eigen_mplx[0][0][1]\n",
        "    for i in range(1, m):\n",
        "        if eigen_mplx[i][0][1] < Px_LIE:\n",
        "            Px = eigen_mplx[i][0][0]\n",
        "            Px_LIE = eigen_mplx[i][0][1]\n",
        "    temp2 = LDR(Px, 2)\n",
        "    \n",
        "    for i in eigen_mplx:\n",
        "        sub_eigen_mplx, pos = create_sub_memeplex(i)\n",
        "        Pb, Pb_LIE = sub_eigen_mplx[0][0], sub_eigen_mplx[0][1]\n",
        "        Pw, Pw_LIE = sub_eigen_mplx[-1][0], sub_eigen_mplx[-1][1]\n",
        "        temp1 = LDR(Pb, 2)\n",
        "        temp1 = LDR(Pb, 2)\n",
        "        if LIE(temp1) > Pw_LIE:\n",
        "            Pw = temp1\n",
        "        elif LIE(temp2) > Pw_LIE:\n",
        "            Pw = temp2\n",
        "        elif LIE(temp3) > Pw_LIE:\n",
        "            Pw = temp3\n",
        "        else:\n",
        "            Pw = LDR_random()\n",
        "        Pw_LIE = LIE(Pw)\n",
        "        sub_eigen_mplx[-1] = [Pw, Pw_LIE]\n",
        "\n",
        "        j = 0\n",
        "        for p in pos:\n",
        "            i[p] = sub_eigen_mplx[j]\n",
        "            j += 1\n",
        "        \n",
        "        meme, meme_LIE = [], []\n",
        "        for p in i:\n",
        "            meme.append(p[0])\n",
        "            meme_LIE.append(p[1])\n",
        "        meme_LIE, meme = sort_memes(meme_LIE, meme)\n",
        "\n",
        "        for p in range(n):\n",
        "            i[p] = [meme[p], meme_LIE[p]]"
      ],
      "metadata": {
        "execution": {
          "iopub.status.busy": "2022-05-15T14:30:52.966482Z",
          "iopub.execute_input": "2022-05-15T14:30:52.967044Z",
          "iopub.status.idle": "2022-05-15T14:30:53.506031Z",
          "shell.execute_reply.started": "2022-05-15T14:30:52.967007Z",
          "shell.execute_reply": "2022-05-15T14:30:53.505240Z"
        },
        "trusted": true,
        "id": "wrfB79iffmM6"
      },
      "execution_count": null,
      "outputs": []
    },
    {
      "cell_type": "code",
      "source": [
        "population = []\n",
        "population_LIE = []\n",
        "for i in eigen_mplx:\n",
        "    for j in i:\n",
        "        population.append(j[0])\n",
        "        population_LIE.append(j[1])\n",
        "population_LIE, population = sort_memes(population_LIE, population)\n",
        "    \n",
        "print(\"The Top-{} Most Influential Node have an Influence Spread Measure of - : {}\".format(k, population_LIE[0]))\n",
        "print(\"The Top-{} Most Influential Nodes in the Network are :\".format(k))\n",
        "for i in range(len(population[0])):\n",
        "    print(population[0][i])\n",
        "print(\"The Average Influence Spread Measure using Eigenvector Centrality is :\", sum(population_LIE) / len(population_LIE))"
      ],
      "metadata": {
        "execution": {
          "iopub.status.busy": "2022-05-15T14:30:53.507266Z",
          "iopub.execute_input": "2022-05-15T14:30:53.507735Z",
          "iopub.status.idle": "2022-05-15T14:30:53.517253Z",
          "shell.execute_reply.started": "2022-05-15T14:30:53.507691Z",
          "shell.execute_reply": "2022-05-15T14:30:53.516404Z"
        },
        "trusted": true,
        "colab": {
          "base_uri": "https://localhost:8080/"
        },
        "id": "S2SfBaDifmM6",
        "outputId": "462ccd83-9d99-4d31-dcd5-2ab3e012938d"
      },
      "execution_count": null,
      "outputs": [
        {
          "output_type": "stream",
          "name": "stdout",
          "text": [
            "The Top-3 Most Influential Node have an Influence Spread Measure of - : 125.53717348343791\n",
            "The Top-3 Most Influential Nodes in the Network are :\n",
            "Tyrion-Lannister\n",
            "Jon-Snow\n",
            "Jaime-Lannister\n",
            "The Average Influence Spread Measure using Eigenvector Centrality is : 38.11869200562125\n"
          ]
        }
      ]
    },
    {
      "cell_type": "markdown",
      "source": [
        "### DSFLA using Betweenness Centrality for Evolutionary process"
      ],
      "metadata": {
        "id": "wlsS8mMdfmM6"
      }
    },
    {
      "cell_type": "code",
      "source": [
        "for x in range(itr):\n",
        "    Px = between_mplx[0][0][0]\n",
        "    Px_LIE = between_mplx[0][0][1]\n",
        "    for i in range(1, m):\n",
        "        if between_mplx[i][0][1] < Px_LIE:\n",
        "            Px = between_mplx[i][0][0]\n",
        "            Px_LIE = between_mplx[i][0][1]\n",
        "    temp2 = LDR(Px, 3)\n",
        "    \n",
        "    for i in between_mplx:\n",
        "        sub_between_mplx, pos = create_sub_memeplex(i)\n",
        "        Pb, Pb_LIE = sub_between_mplx[0][0], sub_between_mplx[0][1]\n",
        "        Pw, Pw_LIE = sub_between_mplx[-1][0], sub_between_mplx[-1][1]\n",
        "        temp1 = LDR(Pb, 3)\n",
        "        temp1 = LDR(Pb, 3)\n",
        "        if LIE(temp1) > Pw_LIE:\n",
        "            Pw = temp1\n",
        "        elif LIE(temp2) > Pw_LIE:\n",
        "            Pw = temp2\n",
        "        elif LIE(temp3) > Pw_LIE:\n",
        "            Pw = temp3\n",
        "        else:\n",
        "            Pw = LDR_random()\n",
        "        Pw_LIE = LIE(Pw)\n",
        "        sub_between_mplx[-1] = [Pw, Pw_LIE]\n",
        "\n",
        "        j = 0\n",
        "        for p in pos:\n",
        "            i[p] = sub_between_mplx[j]\n",
        "            j += 1\n",
        "        \n",
        "        meme, meme_LIE = [], []\n",
        "        for p in i:\n",
        "            meme.append(p[0])\n",
        "            meme_LIE.append(p[1])\n",
        "        meme_LIE, meme = sort_memes(meme_LIE, meme)\n",
        "\n",
        "        for p in range(n):\n",
        "            i[p] = [meme[p], meme_LIE[p]]"
      ],
      "metadata": {
        "execution": {
          "iopub.status.busy": "2022-05-15T14:30:53.518646Z",
          "iopub.execute_input": "2022-05-15T14:30:53.518922Z",
          "iopub.status.idle": "2022-05-15T14:30:54.058017Z",
          "shell.execute_reply.started": "2022-05-15T14:30:53.518891Z",
          "shell.execute_reply": "2022-05-15T14:30:54.057224Z"
        },
        "trusted": true,
        "id": "3c_nHUKFfmM6"
      },
      "execution_count": null,
      "outputs": []
    },
    {
      "cell_type": "code",
      "source": [
        "population = []\n",
        "population_LIE = []\n",
        "for i in between_mplx:\n",
        "    for j in i:\n",
        "        population.append(j[0])\n",
        "        population_LIE.append(j[1])\n",
        "population_LIE, population = sort_memes(population_LIE, population)\n",
        "    \n",
        "print(\"The Top-{} Most Influential Node have an Influence Spread Measure of - : {}\".format(k, population_LIE[0]))\n",
        "print(\"The Top-{} Most Influential Nodes in the Network are :\".format(k))\n",
        "for i in range(len(population[0])):\n",
        "    print(population[0][i])\n",
        "print(\"The Average Influence Spread Measure using Betweenness Centrality is :\", sum(population_LIE) / len(population_LIE))"
      ],
      "metadata": {
        "execution": {
          "iopub.status.busy": "2022-05-15T14:30:54.059133Z",
          "iopub.execute_input": "2022-05-15T14:30:54.059356Z",
          "iopub.status.idle": "2022-05-15T14:30:54.067735Z",
          "shell.execute_reply.started": "2022-05-15T14:30:54.059331Z",
          "shell.execute_reply": "2022-05-15T14:30:54.067169Z"
        },
        "trusted": true,
        "colab": {
          "base_uri": "https://localhost:8080/"
        },
        "id": "9VAibfN2fmM8",
        "outputId": "9cad3f61-4a10-442a-bd5c-33ac80590612"
      },
      "execution_count": null,
      "outputs": [
        {
          "output_type": "stream",
          "name": "stdout",
          "text": [
            "The Top-3 Most Influential Node have an Influence Spread Measure of - : 125.53717348343791\n",
            "The Top-3 Most Influential Nodes in the Network are :\n",
            "Tyrion-Lannister\n",
            "Jon-Snow\n",
            "Jaime-Lannister\n",
            "The Average Influence Spread Measure using Betweenness Centrality is : 41.08357213426147\n"
          ]
        }
      ]
    },
    {
      "cell_type": "markdown",
      "source": [
        "### DSFLA using Closeness Centrality for Evolutionary process"
      ],
      "metadata": {
        "id": "NHM3B5JSfmM8"
      }
    },
    {
      "cell_type": "code",
      "source": [
        "for x in range(itr):\n",
        "    Px = close_mplx[0][0][0]\n",
        "    Px_LIE = close_mplx[0][0][1]\n",
        "    for i in range(1, m):\n",
        "        if close_mplx[i][0][1] < Px_LIE:\n",
        "            Px = close_mplx[i][0][0]\n",
        "            Px_LIE = close_mplx[i][0][1]\n",
        "    temp2 = LDR(Px, 4)\n",
        "    \n",
        "    for i in close_mplx:\n",
        "        sub_close_mplx, pos = create_sub_memeplex(i)\n",
        "        Pb, Pb_LIE = sub_close_mplx[0][0], sub_close_mplx[0][1]\n",
        "        Pw, Pw_LIE = sub_close_mplx[-1][0], sub_close_mplx[-1][1]\n",
        "        temp1 = LDR(Pb, 4)\n",
        "        temp1 = LDR(Pb, 4)\n",
        "        if LIE(temp1) > Pw_LIE:\n",
        "            Pw = temp1\n",
        "        elif LIE(temp2) > Pw_LIE:\n",
        "            Pw = temp2\n",
        "        elif LIE(temp3) > Pw_LIE:\n",
        "            Pw = temp3\n",
        "        else:\n",
        "            Pw = LDR_random()\n",
        "        Pw_LIE = LIE(Pw)\n",
        "        sub_close_mplx[-1] = [Pw, Pw_LIE]\n",
        "\n",
        "        j = 0\n",
        "        for p in pos:\n",
        "            i[p] = sub_close_mplx[j]\n",
        "            j += 1\n",
        "        \n",
        "        meme, meme_LIE = [], []\n",
        "        for p in i:\n",
        "            meme.append(p[0])\n",
        "            meme_LIE.append(p[1])\n",
        "        meme_LIE, meme = sort_memes(meme_LIE, meme)\n",
        "\n",
        "        for p in range(n):\n",
        "            i[p] = [meme[p], meme_LIE[p]]"
      ],
      "metadata": {
        "execution": {
          "iopub.status.busy": "2022-05-15T14:30:54.068603Z",
          "iopub.execute_input": "2022-05-15T14:30:54.069334Z",
          "iopub.status.idle": "2022-05-15T14:30:54.618784Z",
          "shell.execute_reply.started": "2022-05-15T14:30:54.069300Z",
          "shell.execute_reply": "2022-05-15T14:30:54.617983Z"
        },
        "trusted": true,
        "id": "09Mc8PHifmM8"
      },
      "execution_count": null,
      "outputs": []
    },
    {
      "cell_type": "code",
      "source": [
        "population = []\n",
        "population_LIE = []\n",
        "for i in close_mplx:\n",
        "    for j in i:\n",
        "        population.append(j[0])\n",
        "        population_LIE.append(j[1])\n",
        "population_LIE, population = sort_memes(population_LIE, population)\n",
        "    \n",
        "print(\"The Top-{} Most Influential Node have an Influence Spread Measure of - : {}\".format(k, population_LIE[0]))\n",
        "print(\"The Top-{} Most Influential Nodes in the Network are :\".format(k))\n",
        "for i in range(len(population[0])):\n",
        "    print(population[0][i])\n",
        "print(\"The Average Influence Spread Measure using Closeness Centrality is :\", sum(population_LIE) / len(population_LIE))"
      ],
      "metadata": {
        "execution": {
          "iopub.status.busy": "2022-05-15T14:30:54.619813Z",
          "iopub.execute_input": "2022-05-15T14:30:54.620034Z",
          "iopub.status.idle": "2022-05-15T14:30:54.629339Z",
          "shell.execute_reply.started": "2022-05-15T14:30:54.620007Z",
          "shell.execute_reply": "2022-05-15T14:30:54.628542Z"
        },
        "trusted": true,
        "colab": {
          "base_uri": "https://localhost:8080/"
        },
        "id": "S69wewRjfmM8",
        "outputId": "412e38b0-6411-4d24-8eee-5e591df446ff"
      },
      "execution_count": null,
      "outputs": [
        {
          "output_type": "stream",
          "name": "stdout",
          "text": [
            "The Top-3 Most Influential Node have an Influence Spread Measure of - : 125.53717348343791\n",
            "The Top-3 Most Influential Nodes in the Network are :\n",
            "Tyrion-Lannister\n",
            "Jon-Snow\n",
            "Jaime-Lannister\n",
            "The Average Influence Spread Measure using Closeness Centrality is : 41.224738663543995\n"
          ]
        }
      ]
    },
    {
      "cell_type": "markdown",
      "source": [
        "### DSFLA using Katz Centrality for Evolutionary process"
      ],
      "metadata": {
        "id": "uAwaYJKYfmM9"
      }
    },
    {
      "cell_type": "code",
      "source": [
        "for x in range(itr):\n",
        "    Px = katz_mplx[0][0][0]\n",
        "    Px_LIE = katz_mplx[0][0][1]\n",
        "    for i in range(1, m):\n",
        "        if katz_mplx[i][0][1] < Px_LIE:\n",
        "            Px = katz_mplx[i][0][0]\n",
        "            Px_LIE = katz_mplx[i][0][1]\n",
        "    temp2 = LDR(Px, 5)\n",
        "    \n",
        "    for i in katz_mplx:\n",
        "        sub_katz_mplx, pos = create_sub_memeplex(i)\n",
        "        Pb, Pb_LIE = sub_katz_mplx[0][0], sub_katz_mplx[0][1]\n",
        "        Pw, Pw_LIE = sub_katz_mplx[-1][0], sub_katz_mplx[-1][1]\n",
        "        temp1 = LDR(Pb, 5)\n",
        "        temp1 = LDR(Pb, 5)\n",
        "        if LIE(temp1) > Pw_LIE:\n",
        "            Pw = temp1\n",
        "        elif LIE(temp2) > Pw_LIE:\n",
        "            Pw = temp2\n",
        "        elif LIE(temp3) > Pw_LIE:\n",
        "            Pw = temp3\n",
        "        else:\n",
        "            Pw = LDR_random()\n",
        "        Pw_LIE = LIE(Pw)\n",
        "        sub_katz_mplx[-1] = [Pw, Pw_LIE]\n",
        "\n",
        "        j = 0\n",
        "        for p in pos:\n",
        "            i[p] = sub_katz_mplx[j]\n",
        "            j += 1\n",
        "        \n",
        "        meme, meme_LIE = [], []\n",
        "        for p in i:\n",
        "            meme.append(p[0])\n",
        "            meme_LIE.append(p[1])\n",
        "        meme_LIE, meme = sort_memes(meme_LIE, meme)\n",
        "\n",
        "        for p in range(n):\n",
        "            i[p] = [meme[p], meme_LIE[p]]"
      ],
      "metadata": {
        "execution": {
          "iopub.status.busy": "2022-05-15T14:30:54.630809Z",
          "iopub.execute_input": "2022-05-15T14:30:54.631770Z",
          "iopub.status.idle": "2022-05-15T14:30:55.155871Z",
          "shell.execute_reply.started": "2022-05-15T14:30:54.631724Z",
          "shell.execute_reply": "2022-05-15T14:30:55.155088Z"
        },
        "trusted": true,
        "id": "fkZ4-YvCfmM9"
      },
      "execution_count": null,
      "outputs": []
    },
    {
      "cell_type": "code",
      "source": [
        "population = []\n",
        "population_LIE = []\n",
        "for i in katz_mplx:\n",
        "    for j in i:\n",
        "        population.append(j[0])\n",
        "        population_LIE.append(j[1])\n",
        "population_LIE, population = sort_memes(population_LIE, population)\n",
        "    \n",
        "print(\"The Top-{} Most Influential Node have an Influence Spread Measure of - : {}\".format(k, population_LIE[0]))\n",
        "print(\"The Top-{} Most Influential Nodes in the Network are :\".format(k))\n",
        "for i in range(len(population[0])):\n",
        "    print(population[0][i])\n",
        "print(\"The Average Influence Spread Measure using Katz Centrality is :\", sum(population_LIE) / len(population_LIE))"
      ],
      "metadata": {
        "execution": {
          "iopub.status.busy": "2022-05-15T14:30:55.157211Z",
          "iopub.execute_input": "2022-05-15T14:30:55.157536Z",
          "iopub.status.idle": "2022-05-15T14:30:55.166146Z",
          "shell.execute_reply.started": "2022-05-15T14:30:55.157475Z",
          "shell.execute_reply": "2022-05-15T14:30:55.165312Z"
        },
        "trusted": true,
        "colab": {
          "base_uri": "https://localhost:8080/"
        },
        "id": "SS1byVGAfmM9",
        "outputId": "2394c849-9397-49d4-80f3-ad19a9557461"
      },
      "execution_count": null,
      "outputs": [
        {
          "output_type": "stream",
          "name": "stdout",
          "text": [
            "The Top-3 Most Influential Node have an Influence Spread Measure of - : 125.53717348343791\n",
            "The Top-3 Most Influential Nodes in the Network are :\n",
            "Tyrion-Lannister\n",
            "Jon-Snow\n",
            "Jaime-Lannister\n",
            "The Average Influence Spread Measure using Katz Centrality is : 38.98245891163142\n"
          ]
        }
      ]
    },
    {
      "cell_type": "markdown",
      "source": [
        "### DSFLA using Percolation Centrality for Evolutionary process"
      ],
      "metadata": {
        "id": "sm8u2qNafmM-"
      }
    },
    {
      "cell_type": "code",
      "source": [
        "for x in range(itr):\n",
        "    Px = perc_mplx[0][0][0]\n",
        "    Px_LIE = perc_mplx[0][0][1]\n",
        "    for i in range(1, m):\n",
        "        if perc_mplx[i][0][1] < Px_LIE:\n",
        "            Px = perc_mplx[i][0][0]\n",
        "            Px_LIE = perc_mplx[i][0][1]\n",
        "    temp2 = LDR(Px, 6)\n",
        "    \n",
        "    for i in perc_mplx:\n",
        "        sub_perc_mplx, pos = create_sub_memeplex(i)\n",
        "        Pb, Pb_LIE = sub_perc_mplx[0][0], sub_perc_mplx[0][1]\n",
        "        Pw, Pw_LIE = sub_perc_mplx[-1][0], sub_perc_mplx[-1][1]\n",
        "        temp1 = LDR(Pb, 6)\n",
        "        temp1 = LDR(Pb, 6)\n",
        "        if LIE(temp1) > Pw_LIE:\n",
        "            Pw = temp1\n",
        "        elif LIE(temp2) > Pw_LIE:\n",
        "            Pw = temp2\n",
        "        elif LIE(temp3) > Pw_LIE:\n",
        "            Pw = temp3\n",
        "        else:\n",
        "            Pw = LDR_random()\n",
        "        Pw_LIE = LIE(Pw)\n",
        "        sub_perc_mplx[-1] = [Pw, Pw_LIE]\n",
        "\n",
        "        j = 0\n",
        "        for p in pos:\n",
        "            i[p] = sub_perc_mplx[j]\n",
        "            j += 1\n",
        "        \n",
        "        meme, meme_LIE = [], []\n",
        "        for p in i:\n",
        "            meme.append(p[0])\n",
        "            meme_LIE.append(p[1])\n",
        "        meme_LIE, meme = sort_memes(meme_LIE, meme)\n",
        "\n",
        "        for p in range(n):\n",
        "            i[p] = [meme[p], meme_LIE[p]]"
      ],
      "metadata": {
        "execution": {
          "iopub.status.busy": "2022-05-15T14:30:55.167693Z",
          "iopub.execute_input": "2022-05-15T14:30:55.167989Z",
          "iopub.status.idle": "2022-05-15T14:30:55.703395Z",
          "shell.execute_reply.started": "2022-05-15T14:30:55.167950Z",
          "shell.execute_reply": "2022-05-15T14:30:55.702494Z"
        },
        "trusted": true,
        "id": "aRQ767QnfmM-"
      },
      "execution_count": null,
      "outputs": []
    },
    {
      "cell_type": "code",
      "source": [
        "population = []\n",
        "population_LIE = []\n",
        "for i in perc_mplx:\n",
        "    for j in i:\n",
        "        population.append(j[0])\n",
        "        population_LIE.append(j[1])\n",
        "population_LIE, population = sort_memes(population_LIE, population)\n",
        "    \n",
        "print(\"The Top-{} Most Influential Node have an Influence Spread Measure of - : {}\".format(k, population_LIE[0]))\n",
        "print(\"The Top-{} Most Influential Nodes in the Network are :\".format(k))\n",
        "for i in range(len(population[0])):\n",
        "    print(population[0][i])\n",
        "print(\"The Average Influence Spread Measure using Percolation Centrality is :\", sum(population_LIE) / len(population_LIE))"
      ],
      "metadata": {
        "execution": {
          "iopub.status.busy": "2022-05-15T14:30:55.704626Z",
          "iopub.execute_input": "2022-05-15T14:30:55.704854Z",
          "iopub.status.idle": "2022-05-15T14:30:55.714337Z",
          "shell.execute_reply.started": "2022-05-15T14:30:55.704825Z",
          "shell.execute_reply": "2022-05-15T14:30:55.713340Z"
        },
        "trusted": true,
        "colab": {
          "base_uri": "https://localhost:8080/"
        },
        "id": "h1FfwNg4fmM-",
        "outputId": "0fb86a2b-0530-4828-e606-f9a082e645ae"
      },
      "execution_count": null,
      "outputs": [
        {
          "output_type": "stream",
          "name": "stdout",
          "text": [
            "The Top-3 Most Influential Node have an Influence Spread Measure of - : 125.53717348343791\n",
            "The Top-3 Most Influential Nodes in the Network are :\n",
            "Tyrion-Lannister\n",
            "Jon-Snow\n",
            "Jaime-Lannister\n",
            "The Average Influence Spread Measure using Percolation Centrality is : 37.41237112359008\n"
          ]
        }
      ]
    }
  ]
}